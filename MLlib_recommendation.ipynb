{
 "cells": [
  {
   "cell_type": "code",
   "execution_count": 1,
   "metadata": {},
   "outputs": [],
   "source": [
    "# tell jupyter where pyspark is\n",
    "import findspark\n",
    "findspark.init()"
   ]
  },
  {
   "cell_type": "code",
   "execution_count": 2,
   "metadata": {},
   "outputs": [],
   "source": [
    "# import ALS and Linear Regression models\n",
    "from pyspark.ml.evaluation import RegressionEvaluator\n",
    "from pyspark.ml.recommendation import ALS\n",
    "from pyspark.ml.regression import LinearRegression\n",
    "from pyspark.sql import Row\n",
    "from pyspark.sql import SparkSession"
   ]
  },
  {
   "cell_type": "code",
   "execution_count": 4,
   "metadata": {},
   "outputs": [],
   "source": [
    "# Build a SparkSession\n",
    "# SparkSession provides a single point of entry to interact with underlying Spark functionality\n",
    "spark = SparkSession\\\n",
    "    .builder\\\n",
    "    .appName(\"ALSExample\")\\\n",
    "    .getOrCreate()"
   ]
  },
  {
   "cell_type": "code",
   "execution_count": 10,
   "metadata": {
    "scrolled": true
   },
   "outputs": [],
   "source": [
    "# Load data as RDD, then transform it to DataFrame format\n",
    "lines = spark.read.text(\"/usr/local/spark/data/mllib/als/sample_movielens_ratings.txt\").rdd\n",
    "parts = lines.map(lambda row: row.value.split(\"::\"))\n",
    "ratingsRDD = parts.map(lambda p: Row(userId=int(p[0]), movieId=int(p[1]),\n",
    "                                     rating=float(p[2]), timestamp=int(p[3])))\n",
    "ratings = spark.createDataFrame(ratingsRDD)\n",
    "# Split data to training part and test part\n",
    "(training, test) = ratings.randomSplit([0.8, 0.2])"
   ]
  },
  {
   "cell_type": "code",
   "execution_count": 11,
   "metadata": {},
   "outputs": [],
   "source": [
    "# Build the recommendation model using ALS on the training data\n",
    "# Note we set cold start strategy to 'drop' to ensure we don't get NaN evaluation metrics\n",
    "als = ALS(maxIter=5, regParam=0.01, userCol=\"userId\", itemCol=\"movieId\", ratingCol=\"rating\",\n",
    "          coldStartStrategy=\"drop\")\n",
    "model = als.fit(training)"
   ]
  },
  {
   "cell_type": "code",
   "execution_count": 12,
   "metadata": {},
   "outputs": [
    {
     "name": "stdout",
     "output_type": "stream",
     "text": [
      "Root-mean-square error = 1.8696232645250332\n"
     ]
    }
   ],
   "source": [
    "# Make predictions using the model we just built; \n",
    "# Evaluate the model by computing the RMSE on the test data\n",
    "predictions = model.transform(test)\n",
    "evaluator = RegressionEvaluator(metricName=\"rmse\", labelCol=\"rating\",\n",
    "                                predictionCol=\"prediction\")\n",
    "rmse = evaluator.evaluate(predictions)\n",
    "print(\"Root-mean-square error = \" + str(rmse))"
   ]
  },
  {
   "cell_type": "code",
   "execution_count": 13,
   "metadata": {
    "scrolled": true
   },
   "outputs": [
    {
     "name": "stdout",
     "output_type": "stream",
     "text": [
      "+------+--------------------+\n",
      "|userId|     recommendations|\n",
      "+------+--------------------+\n",
      "|    28|[[62, 8.525843], ...|\n",
      "|    26|[[39, 6.8696904],...|\n",
      "|    27|[[49, 4.7381926],...|\n",
      "|    12|[[49, 5.093774], ...|\n",
      "|    22|[[90, 6.1015964],...|\n",
      "|     1|[[17, 5.4589934],...|\n",
      "|    13|[[93, 3.6132293],...|\n",
      "|     6|[[25, 5.1587577],...|\n",
      "|    16|[[52, 5.0461907],...|\n",
      "|     3|[[74, 5.86853], [...|\n",
      "|    20|[[22, 4.922925], ...|\n",
      "|     5|[[30, 5.366032], ...|\n",
      "|    19|[[90, 4.2803607],...|\n",
      "|    15|[[46, 5.164592], ...|\n",
      "|    17|[[46, 5.0489945],...|\n",
      "|     9|[[65, 5.4990354],...|\n",
      "|     4|[[29, 4.0381455],...|\n",
      "|     8|[[29, 5.1080737],...|\n",
      "|    23|[[49, 5.8362117],...|\n",
      "|     7|[[25, 4.5248313],...|\n",
      "+------+--------------------+\n",
      "only showing top 20 rows\n",
      "\n",
      "+-------+--------------------+\n",
      "|movieId|     recommendations|\n",
      "+-------+--------------------+\n",
      "|     31|[[21, 3.7460542],...|\n",
      "|     85|[[22, 5.860422], ...|\n",
      "|     65|[[9, 5.4990354], ...|\n",
      "|     53|[[8, 5.0997677], ...|\n",
      "|     78|[[3, 1.2662673], ...|\n",
      "|     34|[[24, 4.5315833],...|\n",
      "|     81|[[11, 3.9368532],...|\n",
      "|     28|[[1, 2.9165711], ...|\n",
      "|     76|[[26, 6.3727083],...|\n",
      "|     26|[[24, 5.111163], ...|\n",
      "|     27|[[12, 5.0661187],...|\n",
      "|     44|[[11, 4.623517], ...|\n",
      "|     12|[[28, 4.855247], ...|\n",
      "|     91|[[12, 3.24758], [...|\n",
      "|     22|[[22, 4.9641414],...|\n",
      "|     93|[[24, 4.399557], ...|\n",
      "|     47|[[2, 4.26521], [7...|\n",
      "|      1|[[17, 4.1292076],...|\n",
      "|     52|[[14, 5.223215], ...|\n",
      "|     13|[[23, 3.9295197],...|\n",
      "+-------+--------------------+\n",
      "only showing top 20 rows\n",
      "\n"
     ]
    }
   ],
   "source": [
    "# Generate top 5 movie recommendations for each user\n",
    "userRecs = model.recommendForAllUsers(5)\n",
    "userRecs.show()\n",
    "\n",
    "# Generate top 5 user recommendations for each movie\n",
    "movieRecs = model.recommendForAllItems(5)\n",
    "movieRecs.show()"
   ]
  },
  {
   "cell_type": "code",
   "execution_count": 14,
   "metadata": {
    "scrolled": true
   },
   "outputs": [
    {
     "name": "stdout",
     "output_type": "stream",
     "text": [
      "+------+--------------------+\n",
      "|userId|     recommendations|\n",
      "+------+--------------------+\n",
      "|    26|[[39, 6.8696904],...|\n",
      "+------+--------------------+\n",
      "\n",
      "+-------+--------------------+\n",
      "|movieId|     recommendations|\n",
      "+-------+--------------------+\n",
      "|     26|[[24, 5.111163], ...|\n",
      "+-------+--------------------+\n",
      "\n"
     ]
    }
   ],
   "source": [
    "# Generate top 5 movie recommendations for a specified user\n",
    "user = ratings.select(als.getUserCol()).distinct().limit(1)\n",
    "userSubsetRecs = model.recommendForUserSubset(user, 5)\n",
    "userSubsetRecs.show()\n",
    "\n",
    "# Generate top 5 user recommendations for a specified movie\n",
    "movie = ratings.select(als.getItemCol()).distinct().limit(1)\n",
    "movieSubSetRecs = model.recommendForItemSubset(movie, 5)\n",
    "movieSubSetRecs.show()"
   ]
  },
  {
   "cell_type": "code",
   "execution_count": 15,
   "metadata": {},
   "outputs": [],
   "source": [
    "spark = SparkSession\\\n",
    "    .builder\\\n",
    "    .appName(\"LinearRegressionWithElasticNet\")\\\n",
    "    .getOrCreate()"
   ]
  },
  {
   "cell_type": "code",
   "execution_count": 16,
   "metadata": {},
   "outputs": [],
   "source": [
    "# Load training data\n",
    "training = spark.read.format(\"libsvm\")\\\n",
    "    .load(\"/usr/local/spark/data/mllib/sample_linear_regression_data.txt\")"
   ]
  },
  {
   "cell_type": "code",
   "execution_count": 17,
   "metadata": {},
   "outputs": [
    {
     "name": "stdout",
     "output_type": "stream",
     "text": [
      "Coefficients: [0.0,0.32292516677405936,-0.3438548034562218,1.9156017023458414,0.05288058680386263,0.765962720459771,0.0,-0.15105392669186682,-0.21587930360904642,0.22025369188813426]\n",
      "Intercept: 0.1598936844239736\n"
     ]
    }
   ],
   "source": [
    "# Create a linear regression model and fit the model\n",
    "lr = LinearRegression(maxIter=10, regParam=0.3, elasticNetParam=0.8)\n",
    "lrModel = lr.fit(training)\n",
    "\n",
    "# Print the coefficients and intercept of the model\n",
    "print(\"Coefficients: %s\" % str(lrModel.coefficients))\n",
    "print(\"Intercept: %s\" % str(lrModel.intercept))"
   ]
  },
  {
   "cell_type": "code",
   "execution_count": 18,
   "metadata": {},
   "outputs": [
    {
     "name": "stdout",
     "output_type": "stream",
     "text": [
      "numIterations: 7\n",
      "RMSE: 10.189077\n"
     ]
    }
   ],
   "source": [
    "# Summarize the model over the training set and print out some metrics\n",
    "trainingSummary = lrModel.summary\n",
    "print(\"numIterations: %d\" % trainingSummary.totalIterations)\n",
    "print(\"RMSE: %f\" % trainingSummary.rootMeanSquaredError)\n"
   ]
  }
 ],
 "metadata": {
  "kernelspec": {
   "display_name": "Python 3",
   "language": "python",
   "name": "python3"
  },
  "language_info": {
   "codemirror_mode": {
    "name": "ipython",
    "version": 3
   },
   "file_extension": ".py",
   "mimetype": "text/x-python",
   "name": "python",
   "nbconvert_exporter": "python",
   "pygments_lexer": "ipython3",
   "version": "3.6.5"
  }
 },
 "nbformat": 4,
 "nbformat_minor": 2
}
