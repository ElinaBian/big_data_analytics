{
 "cells": [
  {
   "cell_type": "code",
   "execution_count": 1,
   "metadata": {},
   "outputs": [
    {
     "name": "stderr",
     "output_type": "stream",
     "text": [
      "Using TensorFlow backend.\n"
     ]
    }
   ],
   "source": [
    "import tensorflow as tf\n",
    "import os\n",
    "import keras.backend as K\n",
    "import numpy as np\n",
    "import pandas as pd\n",
    "from keras.layers import *\n",
    "from keras.models import *\n",
    "from keras.optimizers import *\n",
    "from keras.applications import *\n",
    "from keras.regularizers import l2\n",
    "\n",
    "from keras.preprocessing.image import *\n",
    "\n",
    "import matplotlib.pyplot as plt\n",
    "import random\n",
    "import os\n",
    "import cv2\n",
    "from tqdm import tqdm\n",
    "from glob import glob\n",
    "import multiprocessing\n",
    "\n",
    "from sklearn.model_selection import train_test_split\n",
    "from collections import Counter\n",
    "from keras import backend as K\n",
    "from keras.utils import multi_gpu_model\n",
    "from dataset import *\n",
    "\n",
    "task_names = ['skirt_length', 'coat_length', 'collar_design', 'neck_design', 'neckline_design', 'pant_length', 'sleeve_length', 'lapel_design']\n",
    "\n"
   ]
  },
  {
   "cell_type": "code",
   "execution_count": 2,
   "metadata": {},
   "outputs": [],
   "source": [
    "os.environ['CUDA_VISIBLE_DEVICES'] = '0,1,2,3'\n",
    "n_gpus = len(os.environ['CUDA_VISIBLE_DEVICES'].split(','))"
   ]
  },
  {
   "cell_type": "code",
   "execution_count": 3,
   "metadata": {},
   "outputs": [
    {
     "name": "stderr",
     "output_type": "stream",
     "text": [
      "100%|██████████| 17148/17148 [00:39<00:00, 430.76it/s]\n"
     ]
    }
   ],
   "source": [
    "task_name = task_names[4]\n",
    "df = pd.read_csv('data/Annotations/label.csv', header=None)\n",
    "df.columns = ['filename', 'label_name', 'label']\n",
    "\n",
    "df.label_name = df.label_name.str.replace('_labels', '')\n",
    "df = df[df.label_name == task_name]\n",
    "df = df.sample(frac=1).reset_index(drop=True) # shuffle\n",
    "\n",
    "c = Counter(df.label_name)\n",
    "label_count = dict([(x, len(df[df.label_name == x].label.values[0])) for x in c.keys()])\n",
    "label_names = list(label_count.keys())\n",
    "n = len(df)\n",
    "fnames = df['filename'].values\n",
    "width = 399\n",
    "\n",
    "y = [np.zeros((n, label_count[x])) for x in label_count.keys()]\n",
    "df = df.reset_index(drop=True)\n",
    "\n",
    "def f(index):\n",
    "    if os.path.isfile('data/'+fnames[index]):\n",
    "        return index, cv2.resize(cv2.imread('data/'+fnames[index]), (width, width))\n",
    "\n",
    "for i in range(n):\n",
    "    label_name = df.label_name[i]\n",
    "    label = df.label[i]\n",
    "    y[label_names.index(label_name)][i, label.find('y')] = 1\n",
    "    #y[label_names.index(label_name)][i, label.find('m')] = 0.5\n",
    "\n",
    "X = np.zeros((n, width, width, 3), dtype=np.uint8)\n",
    "with multiprocessing.Pool(12) as pool:\n",
    "    with tqdm(pool.imap_unordered(f, range(n)), total=n) as pbar:\n",
    "        for i, img in pbar:\n",
    "            X[i] = img[:,:,::-1]\n",
    "\n",
    "n_train = int(n*0.8)\n",
    "\n",
    "X_train = X[:n_train]\n",
    "X_valid = X[n_train:]\n",
    "y_train = [x[:n_train] for x in y]\n",
    "y_valid = [x[n_train:] for x in y]\n",
    "\n",
    "gen_train = Generator(X_train, y_train, batch_size=16, aug=True)\n",
    "\n",
    "from keras.applications.inception_v3 import InceptionV3\n",
    "from keras.applications.inception_v3 import preprocess_input\n",
    "base_model = InceptionV3(weights='imagenet', input_shape=(width, width, 3), include_top=False, pooling = 'avg')\n",
    "\n",
    "input_tensor = Input((width, width, 3))\n",
    "x = input_tensor\n",
    "x = Lambda(preprocess_input)(x)\n",
    "x = base_model(x)\n",
    "x = Dropout(0.5)(x)\n",
    "x = [Dense(count, activation='softmax', name=name)(x) for name, count in label_count.items()]\n",
    "\n",
    "model = Model(input_tensor, x)\n",
    "model.compile(optimizer='adam', loss='categorical_crossentropy', metrics=['accuracy'])\n",
    "\n",
    "gpu_model = multi_gpu_model(model, n_gpus)\n"
   ]
  },
  {
   "cell_type": "code",
   "execution_count": 4,
   "metadata": {},
   "outputs": [
    {
     "name": "stdout",
     "output_type": "stream",
     "text": [
      "Epoch 1/3\n",
      "858/858 [==============================] - 698s 814ms/step - loss: 1.2482 - acc: 0.5816 - val_loss: 0.7783 - val_acc: 0.7475\n",
      "Epoch 2/3\n",
      "858/858 [==============================] - 611s 712ms/step - loss: 0.7366 - acc: 0.7661 - val_loss: 0.6949 - val_acc: 0.7883\n",
      "Epoch 3/3\n",
      "858/858 [==============================] - 611s 712ms/step - loss: 0.5706 - acc: 0.8199 - val_loss: 0.5676 - val_acc: 0.8303\n"
     ]
    }
   ],
   "source": [
    "gpu_model.compile(optimizer=Adam(0.0001), loss='categorical_crossentropy', metrics=['accuracy'])\n",
    "gpu_model.fit_generator(gen_train.generator, steps_per_epoch=gen_train.steps, epochs=3, validation_data=(X_valid, y_valid))\n",
    "\n",
    "model_name = 'InceptionV3' + task_name\n",
    "model.save('model_%s.h5' % model_name)"
   ]
  },
  {
   "cell_type": "code",
   "execution_count": 5,
   "metadata": {},
   "outputs": [
    {
     "name": "stdout",
     "output_type": "stream",
     "text": [
      "Epoch 1/2\n",
      "858/858 [==============================] - 648s 755ms/step - loss: 0.3736 - acc: 0.8811 - val_loss: 0.4679 - val_acc: 0.8513\n",
      "Epoch 2/2\n",
      "858/858 [==============================] - 569s 663ms/step - loss: 0.3058 - acc: 0.9029 - val_loss: 0.4853 - val_acc: 0.8493\n"
     ]
    }
   ],
   "source": [
    "gpu_model.compile(optimizer=Adam(0.000025), loss='categorical_crossentropy', metrics=['accuracy'])\n",
    "gpu_model.fit_generator(gen_train.generator, steps_per_epoch=gen_train.steps, epochs=2, validation_data=(X_valid, y_valid))\n",
    "\n",
    "model_name = 'InceptionV3' + task_name\n",
    "model.save('model_%s.h5' % model_name)"
   ]
  },
  {
   "cell_type": "code",
   "execution_count": 6,
   "metadata": {},
   "outputs": [
    {
     "name": "stdout",
     "output_type": "stream",
     "text": [
      "Epoch 1/3\n",
      "858/858 [==============================] - 655s 764ms/step - loss: 0.2450 - acc: 0.9232 - val_loss: 0.4564 - val_acc: 0.8580\n",
      "Epoch 2/3\n",
      "858/858 [==============================] - 568s 661ms/step - loss: 0.2244 - acc: 0.9291 - val_loss: 0.4666 - val_acc: 0.8609\n",
      "Epoch 3/3\n",
      "858/858 [==============================] - 568s 662ms/step - loss: 0.2017 - acc: 0.9362 - val_loss: 0.4693 - val_acc: 0.8609\n"
     ]
    }
   ],
   "source": [
    "gpu_model.compile(optimizer=Adam(0.00000625), loss='categorical_crossentropy', metrics=['accuracy'])\n",
    "gpu_model.fit_generator(gen_train.generator, steps_per_epoch=gen_train.steps, epochs=3, validation_data=(X_valid, y_valid))\n",
    "\n",
    "model_name = 'InceptionV3' + task_name\n",
    "model.save('model_%s.h5' % model_name)"
   ]
  },
  {
   "cell_type": "code",
   "execution_count": 7,
   "metadata": {},
   "outputs": [
    {
     "name": "stdout",
     "output_type": "stream",
     "text": [
      "Epoch 1/1\n",
      "858/858 [==============================] - 675s 787ms/step - loss: 0.1912 - acc: 0.9406 - val_loss: 0.4655 - val_acc: 0.8624\n"
     ]
    }
   ],
   "source": [
    "gpu_model.compile(optimizer=Adam(0.00000425), loss='categorical_crossentropy', metrics=['accuracy'])\n",
    "gpu_model.fit_generator(gen_train.generator, steps_per_epoch=gen_train.steps, epochs=1, validation_data=(X_valid, y_valid))\n",
    "\n",
    "model_name = 'InceptionV3' + task_name\n",
    "model.save('model_%s.h5' % model_name)"
   ]
  },
  {
   "cell_type": "code",
   "execution_count": 8,
   "metadata": {},
   "outputs": [
    {
     "name": "stdout",
     "output_type": "stream",
     "text": [
      "Epoch 1/1\n",
      "858/858 [==============================] - 686s 799ms/step - loss: 0.1835 - acc: 0.9425 - val_loss: 0.4662 - val_acc: 0.8603\n"
     ]
    }
   ],
   "source": [
    "gpu_model.compile(optimizer=Adam(0.000001), loss='categorical_crossentropy', metrics=['accuracy'])\n",
    "gpu_model.fit_generator(gen_train.generator, steps_per_epoch=gen_train.steps, epochs=1, validation_data=(X_valid, y_valid))\n",
    "\n",
    "model_name = 'InceptionV3' + task_name\n",
    "model.save('model_%s.h5' % model_name)\n"
   ]
  },
  {
   "cell_type": "code",
   "execution_count": 9,
   "metadata": {},
   "outputs": [
    {
     "name": "stdout",
     "output_type": "stream",
     "text": [
      "Epoch 1/1\n",
      "858/858 [==============================] - 636s 741ms/step - loss: 0.1722 - acc: 0.9457 - val_loss: 0.4655 - val_acc: 0.8592\n"
     ]
    }
   ],
   "source": [
    "gpu_model.compile(optimizer=SGD(lr=1e-8, momentum=0.9), loss='categorical_crossentropy', metrics=['accuracy'])\n",
    "gpu_model.fit_generator(gen_train.generator, steps_per_epoch=gen_train.steps, epochs=1, validation_data=(X_valid, y_valid))\n",
    "\n",
    "model_name = 'InceptionV3' + task_name\n",
    "model.save('model_%s.h5' % model_name)\n"
   ]
  },
  {
   "cell_type": "code",
   "execution_count": null,
   "metadata": {},
   "outputs": [],
   "source": []
  },
  {
   "cell_type": "code",
   "execution_count": 11,
   "metadata": {},
   "outputs": [
    {
     "name": "stdout",
     "output_type": "stream",
     "text": [
      "3430/3430 [==============================] - 101s 29ms/step\n",
      "neckline_design 0.8591836734693877\n"
     ]
    }
   ],
   "source": [
    "# for c in range(8):\n",
    "y_pred = model.predict(X_valid, batch_size=128, verbose=1)\n",
    "y_pred2 = np.array(y_pred).argmax(axis=-1)\n",
    "y_true2 = np.array(y_valid).argmax(axis=-1)\n",
    "print(task_name, (y_pred2 == y_true2).mean())\n",
    "\n"
   ]
  },
  {
   "cell_type": "code",
   "execution_count": null,
   "metadata": {},
   "outputs": [],
   "source": []
  },
  {
   "cell_type": "code",
   "execution_count": null,
   "metadata": {},
   "outputs": [],
   "source": []
  },
  {
   "cell_type": "code",
   "execution_count": null,
   "metadata": {},
   "outputs": [],
   "source": []
  }
 ],
 "metadata": {
  "kernelspec": {
   "display_name": "Python 3",
   "language": "python",
   "name": "python3"
  },
  "language_info": {
   "codemirror_mode": {
    "name": "ipython",
    "version": 3
   },
   "file_extension": ".py",
   "mimetype": "text/x-python",
   "name": "python",
   "nbconvert_exporter": "python",
   "pygments_lexer": "ipython3",
   "version": "3.5.2"
  }
 },
 "nbformat": 4,
 "nbformat_minor": 2
}
