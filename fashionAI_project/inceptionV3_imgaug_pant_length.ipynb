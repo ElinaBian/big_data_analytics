{
 "cells": [
  {
   "cell_type": "code",
   "execution_count": 1,
   "metadata": {},
   "outputs": [
    {
     "name": "stderr",
     "output_type": "stream",
     "text": [
      "Using TensorFlow backend.\n"
     ]
    }
   ],
   "source": [
    "import tensorflow as tf\n",
    "import os\n",
    "import keras.backend as K\n",
    "import numpy as np\n",
    "import pandas as pd\n",
    "from keras.layers import *\n",
    "from keras.models import *\n",
    "from keras.optimizers import *\n",
    "from keras.applications import *\n",
    "from keras.regularizers import l2\n",
    "\n",
    "from keras.preprocessing.image import *\n",
    "\n",
    "import matplotlib.pyplot as plt\n",
    "import random\n",
    "import os\n",
    "import cv2\n",
    "from tqdm import tqdm\n",
    "from glob import glob\n",
    "import multiprocessing\n",
    "\n",
    "from sklearn.model_selection import train_test_split\n",
    "from collections import Counter\n",
    "from keras import backend as K\n",
    "from keras.utils import multi_gpu_model\n",
    "from dataset import *\n",
    "\n",
    "task_names = ['skirt_length', 'coat_length', 'collar_design', 'neck_design', 'neckline_design', 'pant_length', 'sleeve_length', 'lapel_design']\n",
    "\n"
   ]
  },
  {
   "cell_type": "code",
   "execution_count": 2,
   "metadata": {},
   "outputs": [],
   "source": [
    "os.environ['CUDA_VISIBLE_DEVICES'] = '0,1,2,3'\n",
    "n_gpus = len(os.environ['CUDA_VISIBLE_DEVICES'].split(','))"
   ]
  },
  {
   "cell_type": "code",
   "execution_count": 3,
   "metadata": {},
   "outputs": [
    {
     "name": "stderr",
     "output_type": "stream",
     "text": [
      "100%|██████████| 7460/7460 [00:18<00:00, 410.51it/s]\n"
     ]
    }
   ],
   "source": [
    "task_name = task_names[5]\n",
    "df = pd.read_csv('data/Annotations/label.csv', header=None)\n",
    "df.columns = ['filename', 'label_name', 'label']\n",
    "\n",
    "df.label_name = df.label_name.str.replace('_labels', '')\n",
    "df = df[df.label_name == task_name]\n",
    "df = df.sample(frac=1).reset_index(drop=True) # shuffle\n",
    "\n",
    "c = Counter(df.label_name)\n",
    "label_count = dict([(x, len(df[df.label_name == x].label.values[0])) for x in c.keys()])\n",
    "label_names = list(label_count.keys())\n",
    "n = len(df)\n",
    "fnames = df['filename'].values\n",
    "width = 399\n",
    "\n",
    "y = [np.zeros((n, label_count[x])) for x in label_count.keys()]\n",
    "df = df.reset_index(drop=True)\n",
    "\n",
    "def f(index):\n",
    "    if os.path.isfile('data/'+fnames[index]):\n",
    "        return index, cv2.resize(cv2.imread('data/'+fnames[index]), (width, width))\n",
    "\n",
    "for i in range(n):\n",
    "    label_name = df.label_name[i]\n",
    "    label = df.label[i]\n",
    "    y[label_names.index(label_name)][i, label.find('y')] = 1\n",
    "    #y[label_names.index(label_name)][i, label.find('m')] = 0.5\n",
    "\n",
    "X = np.zeros((n, width, width, 3), dtype=np.uint8)\n",
    "with multiprocessing.Pool(12) as pool:\n",
    "    with tqdm(pool.imap_unordered(f, range(n)), total=n) as pbar:\n",
    "        for i, img in pbar:\n",
    "            X[i] = img[:,:,::-1]\n",
    "\n",
    "n_train = int(n*0.8)\n",
    "\n",
    "X_train = X[:n_train]\n",
    "X_valid = X[n_train:]\n",
    "y_train = [x[:n_train] for x in y]\n",
    "y_valid = [x[n_train:] for x in y]\n",
    "\n",
    "gen_train = Generator(X_train, y_train, batch_size=16, aug=True)\n",
    "\n",
    "from keras.applications.inception_v3 import InceptionV3\n",
    "from keras.applications.inception_v3 import preprocess_input\n",
    "base_model = InceptionV3(weights='imagenet', input_shape=(width, width, 3), include_top=False, pooling = 'avg')\n",
    "\n",
    "input_tensor = Input((width, width, 3))\n",
    "x = input_tensor\n",
    "x = Lambda(preprocess_input)(x)\n",
    "x = base_model(x)\n",
    "x = Dropout(0.5)(x)\n",
    "x = [Dense(count, activation='softmax', name=name)(x) for name, count in label_count.items()]\n",
    "\n",
    "model = Model(input_tensor, x)\n",
    "model.compile(optimizer='adam', loss='categorical_crossentropy', metrics=['accuracy'])\n",
    "\n",
    "gpumodel = multi_gpu_model(model, n_gpus)\n",
    "\n"
   ]
  },
  {
   "cell_type": "code",
   "execution_count": 4,
   "metadata": {},
   "outputs": [
    {
     "name": "stdout",
     "output_type": "stream",
     "text": [
      "Epoch 1/3\n",
      "374/374 [==============================] - 337s 900ms/step - loss: 0.9957 - acc: 0.6277 - val_loss: 0.5782 - val_acc: 0.7929\n",
      "Epoch 2/3\n",
      "374/374 [==============================] - 252s 674ms/step - loss: 0.5734 - acc: 0.8021 - val_loss: 0.4196 - val_acc: 0.8425\n",
      "Epoch 3/3\n",
      "374/374 [==============================] - 251s 672ms/step - loss: 0.4287 - acc: 0.8533 - val_loss: 0.4266 - val_acc: 0.8485\n"
     ]
    }
   ],
   "source": [
    "gpumodel.compile(optimizer=Adam(0.0001), loss='categorical_crossentropy', metrics=['accuracy'])\n",
    "gpumodel.fit_generator(gen_train.generator, steps_per_epoch=gen_train.steps, epochs=3, validation_data=(X_valid, y_valid))\n",
    "\n",
    "model_name = 'InceptionV3' + task_name\n",
    "model.save_weights('model_%s.h5' % model_name)"
   ]
  },
  {
   "cell_type": "code",
   "execution_count": 5,
   "metadata": {},
   "outputs": [
    {
     "name": "stdout",
     "output_type": "stream",
     "text": [
      "Epoch 1/2\n",
      "374/374 [==============================] - 334s 893ms/step - loss: 0.2545 - acc: 0.9121 - val_loss: 0.3737 - val_acc: 0.8666\n",
      "Epoch 2/2\n",
      "374/374 [==============================] - 255s 681ms/step - loss: 0.1838 - acc: 0.9403 - val_loss: 0.3774 - val_acc: 0.8592\n"
     ]
    }
   ],
   "source": [
    "gpumodel.compile(optimizer=Adam(0.000025), loss='categorical_crossentropy', metrics=['accuracy'])\n",
    "gpumodel.fit_generator(gen_train.generator, steps_per_epoch=gen_train.steps, epochs=2, validation_data=(X_valid, y_valid))\n",
    "\n",
    "model_name = 'InceptionV3' + task_name\n",
    "model.save_weights('model_%s.h5' % model_name)"
   ]
  },
  {
   "cell_type": "code",
   "execution_count": 6,
   "metadata": {},
   "outputs": [
    {
     "name": "stdout",
     "output_type": "stream",
     "text": [
      "Epoch 1/3\n",
      "374/374 [==============================] - 348s 929ms/step - loss: 0.1284 - acc: 0.9596 - val_loss: 0.3801 - val_acc: 0.8700\n",
      "Epoch 2/3\n",
      "374/374 [==============================] - 256s 685ms/step - loss: 0.1096 - acc: 0.9677 - val_loss: 0.3851 - val_acc: 0.8693\n",
      "Epoch 3/3\n",
      "374/374 [==============================] - 256s 685ms/step - loss: 0.1059 - acc: 0.9696 - val_loss: 0.3942 - val_acc: 0.8693\n"
     ]
    }
   ],
   "source": [
    "gpumodel.compile(optimizer=Adam(0.00000625), loss='categorical_crossentropy', metrics=['accuracy'])\n",
    "gpumodel.fit_generator(gen_train.generator, steps_per_epoch=gen_train.steps, epochs=3, validation_data=(X_valid, y_valid))\n",
    "\n",
    "model_name = 'InceptionV3' + task_name\n",
    "model.save_weights('model_%s.h5' % model_name)"
   ]
  },
  {
   "cell_type": "code",
   "execution_count": 7,
   "metadata": {},
   "outputs": [
    {
     "name": "stdout",
     "output_type": "stream",
     "text": [
      "Epoch 1/1\n",
      "374/374 [==============================] - 351s 939ms/step - loss: 0.0934 - acc: 0.9719 - val_loss: 0.3947 - val_acc: 0.8653\n"
     ]
    }
   ],
   "source": [
    "gpumodel.compile(optimizer=Adam(0.00000425), loss='categorical_crossentropy', metrics=['accuracy'])\n",
    "gpumodel.fit_generator(gen_train.generator, steps_per_epoch=gen_train.steps, epochs=1, validation_data=(X_valid, y_valid))\n",
    "\n",
    "model_name = 'InceptionV3' + task_name\n",
    "model.save_weights('model_%s.h5' % model_name)"
   ]
  },
  {
   "cell_type": "code",
   "execution_count": 8,
   "metadata": {},
   "outputs": [
    {
     "name": "stdout",
     "output_type": "stream",
     "text": [
      "Epoch 1/1\n",
      "374/374 [==============================] - 321s 858ms/step - loss: 0.0851 - acc: 0.9758 - val_loss: 0.3933 - val_acc: 0.8646\n"
     ]
    }
   ],
   "source": [
    "gpumodel.compile(optimizer=SGD(lr=1e-8, momentum=0.9), loss='categorical_crossentropy', metrics=['accuracy'])\n",
    "gpumodel.fit_generator(gen_train.generator, steps_per_epoch=gen_train.steps, epochs=1, validation_data=(X_valid, y_valid))\n",
    "\n",
    "model_name = 'InceptionV3' + task_name\n",
    "model.save_weights('model_%s.h5' % model_name)"
   ]
  },
  {
   "cell_type": "code",
   "execution_count": null,
   "metadata": {},
   "outputs": [],
   "source": []
  }
 ],
 "metadata": {
  "kernelspec": {
   "display_name": "Python 3",
   "language": "python",
   "name": "python3"
  },
  "language_info": {
   "codemirror_mode": {
    "name": "ipython",
    "version": 3
   },
   "file_extension": ".py",
   "mimetype": "text/x-python",
   "name": "python",
   "nbconvert_exporter": "python",
   "pygments_lexer": "ipython3",
   "version": "3.5.2"
  }
 },
 "nbformat": 4,
 "nbformat_minor": 2
}
