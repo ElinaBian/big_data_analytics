{
 "cells": [
  {
   "cell_type": "code",
   "execution_count": 1,
   "metadata": {},
   "outputs": [],
   "source": [
    "import tensorflow as tf"
   ]
  },
  {
   "cell_type": "code",
   "execution_count": 2,
   "metadata": {},
   "outputs": [
    {
     "name": "stderr",
     "output_type": "stream",
     "text": [
      "Using TensorFlow backend.\n"
     ]
    }
   ],
   "source": [
    "import os\n",
    "os.environ['CUDA_VISIBLE_DEVICES'] = '0,1,2,3'\n",
    "n_gpus = len(os.environ['CUDA_VISIBLE_DEVICES'].split(','))\n",
    "\n",
    "import keras.backend as K\n",
    "#import tensorflow as tf\n",
    "\n",
    "# gpu_options = tf.GPUOptions(per_process_gpu_memory_fraction=0.7)\n",
    "# sess = tf.Session(config=tf.ConfigProto(gpu_options=gpu_options))"
   ]
  },
  {
   "cell_type": "code",
   "execution_count": 3,
   "metadata": {},
   "outputs": [],
   "source": [
    "import numpy as np\n",
    "import pandas as pd\n",
    "from keras.layers import *\n",
    "from keras.models import *\n",
    "from keras.optimizers import *\n",
    "from keras.applications import *\n",
    "from keras.regularizers import l2\n",
    "\n",
    "from keras.preprocessing.image import *\n",
    "\n",
    "import matplotlib.pyplot as plt\n",
    "import random\n",
    "import os\n",
    "import cv2\n",
    "from tqdm import tqdm\n",
    "from glob import glob\n",
    "import multiprocessing\n",
    "\n",
    "from sklearn.model_selection import train_test_split\n",
    "from collections import Counter\n",
    "from keras import backend as K\n",
    "from keras.utils import multi_gpu_model\n",
    "\n",
    "from IPython.display import display, Image\n",
    "\n",
    "%matplotlib inline\n",
    "%config InlineBackend.figure_format = 'retina'\n"
   ]
  },
  {
   "cell_type": "code",
   "execution_count": 4,
   "metadata": {},
   "outputs": [
    {
     "data": {
      "text/html": [
       "<div>\n",
       "<style scoped>\n",
       "    .dataframe tbody tr th:only-of-type {\n",
       "        vertical-align: middle;\n",
       "    }\n",
       "\n",
       "    .dataframe tbody tr th {\n",
       "        vertical-align: top;\n",
       "    }\n",
       "\n",
       "    .dataframe thead th {\n",
       "        text-align: right;\n",
       "    }\n",
       "</style>\n",
       "<table border=\"1\" class=\"dataframe\">\n",
       "  <thead>\n",
       "    <tr style=\"text-align: right;\">\n",
       "      <th></th>\n",
       "      <th>filename</th>\n",
       "      <th>label_name</th>\n",
       "      <th>label</th>\n",
       "    </tr>\n",
       "  </thead>\n",
       "  <tbody>\n",
       "    <tr>\n",
       "      <th>10</th>\n",
       "      <td>Images/coat_length_labels/615df9444a10e7e7856d...</td>\n",
       "      <td>coat_length</td>\n",
       "      <td>nnnnnynn</td>\n",
       "    </tr>\n",
       "    <tr>\n",
       "      <th>27</th>\n",
       "      <td>Images/coat_length_labels/294e95a3241e4369b230...</td>\n",
       "      <td>coat_length</td>\n",
       "      <td>nynnnnnn</td>\n",
       "    </tr>\n",
       "    <tr>\n",
       "      <th>29</th>\n",
       "      <td>Images/coat_length_labels/b01c904a3a4b5b18a41a...</td>\n",
       "      <td>coat_length</td>\n",
       "      <td>nnnynnnn</td>\n",
       "    </tr>\n",
       "    <tr>\n",
       "      <th>34</th>\n",
       "      <td>Images/coat_length_labels/025dd3083efb06e6be5a...</td>\n",
       "      <td>coat_length</td>\n",
       "      <td>nnnnynnn</td>\n",
       "    </tr>\n",
       "    <tr>\n",
       "      <th>36</th>\n",
       "      <td>Images/coat_length_labels/0aea2497f2d72364b91e...</td>\n",
       "      <td>coat_length</td>\n",
       "      <td>nnnnnynn</td>\n",
       "    </tr>\n",
       "  </tbody>\n",
       "</table>\n",
       "</div>"
      ],
      "text/plain": [
       "                                             filename   label_name     label\n",
       "10  Images/coat_length_labels/615df9444a10e7e7856d...  coat_length  nnnnnynn\n",
       "27  Images/coat_length_labels/294e95a3241e4369b230...  coat_length  nynnnnnn\n",
       "29  Images/coat_length_labels/b01c904a3a4b5b18a41a...  coat_length  nnnynnnn\n",
       "34  Images/coat_length_labels/025dd3083efb06e6be5a...  coat_length  nnnnynnn\n",
       "36  Images/coat_length_labels/0aea2497f2d72364b91e...  coat_length  nnnnnynn"
      ]
     },
     "metadata": {},
     "output_type": "display_data"
    },
    {
     "data": {
      "text/plain": [
       "Counter({'coat_length': 11320})"
      ]
     },
     "execution_count": 4,
     "metadata": {},
     "output_type": "execute_result"
    }
   ],
   "source": [
    "df = pd.read_csv('data/Annotations/label.csv', header=None)\n",
    "df.columns = ['filename', 'label_name', 'label']\n",
    "df = df.sample(frac=1).reset_index(drop=True) # shuffle\n",
    "\n",
    "df.label_name = df.label_name.str.replace('_labels', '')\n",
    "df = df[df.label_name == 'coat_length']\n",
    "\n",
    "display(df.head())\n",
    "c = Counter(df.label_name)\n",
    "c"
   ]
  },
  {
   "cell_type": "code",
   "execution_count": 5,
   "metadata": {},
   "outputs": [
    {
     "data": {
      "text/plain": [
       "{'coat_length': 8}"
      ]
     },
     "metadata": {},
     "output_type": "display_data"
    }
   ],
   "source": [
    "label_count = dict([(x, len(df[df.label_name == x].label.values[0])) for x in c.keys()])\n",
    "label_names = list(label_count.keys())\n",
    "display(label_count)"
   ]
  },
  {
   "cell_type": "code",
   "execution_count": 6,
   "metadata": {},
   "outputs": [
    {
     "name": "stdout",
     "output_type": "stream",
     "text": [
      "11320\n"
     ]
    }
   ],
   "source": [
    "n = len(df)\n",
    "print(n)"
   ]
  },
  {
   "cell_type": "code",
   "execution_count": 7,
   "metadata": {},
   "outputs": [],
   "source": [
    "fnames = df['filename'].values\n",
    "width = 399\n",
    "\n",
    "y = [np.zeros((n, label_count[x])) for x in label_count.keys()]\n",
    "df = df.reset_index(drop=True)"
   ]
  },
  {
   "cell_type": "code",
   "execution_count": 8,
   "metadata": {},
   "outputs": [],
   "source": [
    "for i in range(n):\n",
    "    label_name = df.label_name[i]\n",
    "    label = df.label[i]\n",
    "    y[label_names.index(label_name)][i, label.find('y')] = 1\n",
    "    #y[label_names.index(label_name)][i, label.find('m')] = 0.5"
   ]
  },
  {
   "cell_type": "code",
   "execution_count": 9,
   "metadata": {},
   "outputs": [
    {
     "name": "stdout",
     "output_type": "stream",
     "text": [
      "['Images/coat_length_labels/615df9444a10e7e7856dc19b70eed8f2.jpg'\n",
      " 'Images/coat_length_labels/294e95a3241e4369b230da4e2a39172c.jpg'\n",
      " 'Images/coat_length_labels/b01c904a3a4b5b18a41a9940a8c44eae.jpg'\n",
      " 'Images/coat_length_labels/025dd3083efb06e6be5a421d07612a5d.jpg'\n",
      " 'Images/coat_length_labels/0aea2497f2d72364b91e8cb1d0d64ed4.jpg'\n",
      " 'Images/coat_length_labels/181ad8b58e6b94c253ac413e66af43b7.jpg'\n",
      " 'Images/coat_length_labels/e14abec52f582d76e76c9723574ff9ad.jpg'\n",
      " 'Images/coat_length_labels/3242fc9ce9bf86c3877ab0b4d5fbc725.jpg'\n",
      " 'Images/coat_length_labels/0103527345c45e034ba53e16d6ff397b.jpg'\n",
      " 'Images/coat_length_labels/8a1cf8ab3925b245736dd42261b3313a.jpg']\n",
      "11320\n",
      "11320\n",
      "1\n",
      "dict_keys(['coat_length'])\n",
      "8\n"
     ]
    }
   ],
   "source": [
    "print(fnames[0:10])\n",
    "print(n)\n",
    "print(len(y[0]))\n",
    "print(len(y))\n",
    "print(label_count.keys())\n",
    "print(len(y[0][0]))"
   ]
  },
  {
   "cell_type": "code",
   "execution_count": 10,
   "metadata": {},
   "outputs": [
    {
     "name": "stderr",
     "output_type": "stream",
     "text": [
      "100%|██████████| 11320/11320 [00:20<00:00, 560.07it/s]\n"
     ]
    }
   ],
   "source": [
    "def f(index):\n",
    "    if os.path.isfile('data/'+fnames[index]):\n",
    "        return index, cv2.resize(cv2.imread('data/'+fnames[index]), (width, width))\n",
    "\n",
    "X = np.zeros((n, width, width, 3), dtype=np.uint8)\n",
    "with multiprocessing.Pool(12) as pool:\n",
    "    with tqdm(pool.imap_unordered(f, range(n)), total=n) as pbar:\n",
    "        for i, img in pbar:\n",
    "            X[i] = img[:,:,::-1]"
   ]
  },
  {
   "cell_type": "code",
   "execution_count": 11,
   "metadata": {},
   "outputs": [],
   "source": [
    "n_train = int(n*0.8)\n",
    "\n",
    "X_train = X[:n_train]\n",
    "X_valid = X[n_train:]\n",
    "y_train = [x[:n_train] for x in y]\n",
    "y_valid = [x[n_train:] for x in y]"
   ]
  },
  {
   "cell_type": "code",
   "execution_count": 12,
   "metadata": {},
   "outputs": [],
   "source": [
    "from dataset import *\n",
    "gen_train = Generator(X_train, y_train, batch_size=32, aug=True)"
   ]
  },
  {
   "cell_type": "code",
   "execution_count": 13,
   "metadata": {},
   "outputs": [],
   "source": [
    "base_model = ResNet50(weights='imagenet', input_shape=(width, width, 3), include_top=False, pooling='avg')"
   ]
  },
  {
   "cell_type": "code",
   "execution_count": 14,
   "metadata": {},
   "outputs": [
    {
     "data": {
      "image/svg+xml": [
       "<svg height=\"387pt\" viewBox=\"0.00 0.00 391.00 387.00\" width=\"391pt\" xmlns=\"http://www.w3.org/2000/svg\" xmlns:xlink=\"http://www.w3.org/1999/xlink\">\n",
       "<g class=\"graph\" id=\"graph0\" transform=\"scale(1 1) rotate(0) translate(4 383)\">\n",
       "<title>G</title>\n",
       "<polygon fill=\"white\" points=\"-4,4 -4,-383 387,-383 387,4 -4,4\" stroke=\"none\"/>\n",
       "<!-- 139839281512232 -->\n",
       "<g class=\"node\" id=\"node1\"><title>139839281512232</title>\n",
       "<polygon fill=\"none\" points=\"-2.84217e-14,-332.5 -2.84217e-14,-378.5 383,-378.5 383,-332.5 -2.84217e-14,-332.5\" stroke=\"black\"/>\n",
       "<text font-family=\"Times,serif\" font-size=\"14.00\" text-anchor=\"middle\" x=\"80\" y=\"-351.8\">input_2: InputLayer</text>\n",
       "<polyline fill=\"none\" points=\"160,-332.5 160,-378.5 \" stroke=\"black\"/>\n",
       "<text font-family=\"Times,serif\" font-size=\"14.00\" text-anchor=\"middle\" x=\"194\" y=\"-363.3\">input:</text>\n",
       "<polyline fill=\"none\" points=\"160,-355.5 228,-355.5 \" stroke=\"black\"/>\n",
       "<text font-family=\"Times,serif\" font-size=\"14.00\" text-anchor=\"middle\" x=\"194\" y=\"-340.3\">output:</text>\n",
       "<polyline fill=\"none\" points=\"228,-332.5 228,-378.5 \" stroke=\"black\"/>\n",
       "<text font-family=\"Times,serif\" font-size=\"14.00\" text-anchor=\"middle\" x=\"305.5\" y=\"-363.3\">(None, 399, 399, 3)</text>\n",
       "<polyline fill=\"none\" points=\"228,-355.5 383,-355.5 \" stroke=\"black\"/>\n",
       "<text font-family=\"Times,serif\" font-size=\"14.00\" text-anchor=\"middle\" x=\"305.5\" y=\"-340.3\">(None, 399, 399, 3)</text>\n",
       "</g>\n",
       "<!-- 139839281509096 -->\n",
       "<g class=\"node\" id=\"node2\"><title>139839281509096</title>\n",
       "<polygon fill=\"none\" points=\"4,-249.5 4,-295.5 379,-295.5 379,-249.5 4,-249.5\" stroke=\"black\"/>\n",
       "<text font-family=\"Times,serif\" font-size=\"14.00\" text-anchor=\"middle\" x=\"80\" y=\"-268.8\">lambda_1: Lambda</text>\n",
       "<polyline fill=\"none\" points=\"156,-249.5 156,-295.5 \" stroke=\"black\"/>\n",
       "<text font-family=\"Times,serif\" font-size=\"14.00\" text-anchor=\"middle\" x=\"190\" y=\"-280.3\">input:</text>\n",
       "<polyline fill=\"none\" points=\"156,-272.5 224,-272.5 \" stroke=\"black\"/>\n",
       "<text font-family=\"Times,serif\" font-size=\"14.00\" text-anchor=\"middle\" x=\"190\" y=\"-257.3\">output:</text>\n",
       "<polyline fill=\"none\" points=\"224,-249.5 224,-295.5 \" stroke=\"black\"/>\n",
       "<text font-family=\"Times,serif\" font-size=\"14.00\" text-anchor=\"middle\" x=\"301.5\" y=\"-280.3\">(None, 399, 399, 3)</text>\n",
       "<polyline fill=\"none\" points=\"224,-272.5 379,-272.5 \" stroke=\"black\"/>\n",
       "<text font-family=\"Times,serif\" font-size=\"14.00\" text-anchor=\"middle\" x=\"301.5\" y=\"-257.3\">(None, 399, 399, 3)</text>\n",
       "</g>\n",
       "<!-- 139839281512232&#45;&gt;139839281509096 -->\n",
       "<g class=\"edge\" id=\"edge1\"><title>139839281512232-&gt;139839281509096</title>\n",
       "<path d=\"M191.5,-332.366C191.5,-324.152 191.5,-314.658 191.5,-305.725\" fill=\"none\" stroke=\"black\"/>\n",
       "<polygon fill=\"black\" points=\"195,-305.607 191.5,-295.607 188,-305.607 195,-305.607\" stroke=\"black\"/>\n",
       "</g>\n",
       "<!-- 139840336691720 -->\n",
       "<g class=\"node\" id=\"node3\"><title>139840336691720</title>\n",
       "<polygon fill=\"none\" points=\"13,-166.5 13,-212.5 370,-212.5 370,-166.5 13,-166.5\" stroke=\"black\"/>\n",
       "<text font-family=\"Times,serif\" font-size=\"14.00\" text-anchor=\"middle\" x=\"80\" y=\"-185.8\">resnet50: Model</text>\n",
       "<polyline fill=\"none\" points=\"147,-166.5 147,-212.5 \" stroke=\"black\"/>\n",
       "<text font-family=\"Times,serif\" font-size=\"14.00\" text-anchor=\"middle\" x=\"181\" y=\"-197.3\">input:</text>\n",
       "<polyline fill=\"none\" points=\"147,-189.5 215,-189.5 \" stroke=\"black\"/>\n",
       "<text font-family=\"Times,serif\" font-size=\"14.00\" text-anchor=\"middle\" x=\"181\" y=\"-174.3\">output:</text>\n",
       "<polyline fill=\"none\" points=\"215,-166.5 215,-212.5 \" stroke=\"black\"/>\n",
       "<text font-family=\"Times,serif\" font-size=\"14.00\" text-anchor=\"middle\" x=\"292.5\" y=\"-197.3\">(None, 399, 399, 3)</text>\n",
       "<polyline fill=\"none\" points=\"215,-189.5 370,-189.5 \" stroke=\"black\"/>\n",
       "<text font-family=\"Times,serif\" font-size=\"14.00\" text-anchor=\"middle\" x=\"292.5\" y=\"-174.3\">(None, 2048)</text>\n",
       "</g>\n",
       "<!-- 139839281509096&#45;&gt;139840336691720 -->\n",
       "<g class=\"edge\" id=\"edge2\"><title>139839281509096-&gt;139840336691720</title>\n",
       "<path d=\"M191.5,-249.366C191.5,-241.152 191.5,-231.658 191.5,-222.725\" fill=\"none\" stroke=\"black\"/>\n",
       "<polygon fill=\"black\" points=\"195,-222.607 191.5,-212.607 188,-222.607 195,-222.607\" stroke=\"black\"/>\n",
       "</g>\n",
       "<!-- 139839281511056 -->\n",
       "<g class=\"node\" id=\"node4\"><title>139839281511056</title>\n",
       "<polygon fill=\"none\" points=\"24,-83.5 24,-129.5 359,-129.5 359,-83.5 24,-83.5\" stroke=\"black\"/>\n",
       "<text font-family=\"Times,serif\" font-size=\"14.00\" text-anchor=\"middle\" x=\"102.5\" y=\"-102.8\">dropout_1: Dropout</text>\n",
       "<polyline fill=\"none\" points=\"181,-83.5 181,-129.5 \" stroke=\"black\"/>\n",
       "<text font-family=\"Times,serif\" font-size=\"14.00\" text-anchor=\"middle\" x=\"215\" y=\"-114.3\">input:</text>\n",
       "<polyline fill=\"none\" points=\"181,-106.5 249,-106.5 \" stroke=\"black\"/>\n",
       "<text font-family=\"Times,serif\" font-size=\"14.00\" text-anchor=\"middle\" x=\"215\" y=\"-91.3\">output:</text>\n",
       "<polyline fill=\"none\" points=\"249,-83.5 249,-129.5 \" stroke=\"black\"/>\n",
       "<text font-family=\"Times,serif\" font-size=\"14.00\" text-anchor=\"middle\" x=\"304\" y=\"-114.3\">(None, 2048)</text>\n",
       "<polyline fill=\"none\" points=\"249,-106.5 359,-106.5 \" stroke=\"black\"/>\n",
       "<text font-family=\"Times,serif\" font-size=\"14.00\" text-anchor=\"middle\" x=\"304\" y=\"-91.3\">(None, 2048)</text>\n",
       "</g>\n",
       "<!-- 139840336691720&#45;&gt;139839281511056 -->\n",
       "<g class=\"edge\" id=\"edge3\"><title>139840336691720-&gt;139839281511056</title>\n",
       "<path d=\"M191.5,-166.366C191.5,-158.152 191.5,-148.658 191.5,-139.725\" fill=\"none\" stroke=\"black\"/>\n",
       "<polygon fill=\"black\" points=\"195,-139.607 191.5,-129.607 188,-139.607 195,-139.607\" stroke=\"black\"/>\n",
       "</g>\n",
       "<!-- 139839281511112 -->\n",
       "<g class=\"node\" id=\"node5\"><title>139839281511112</title>\n",
       "<polygon fill=\"none\" points=\"25.5,-0.5 25.5,-46.5 357.5,-46.5 357.5,-0.5 25.5,-0.5\" stroke=\"black\"/>\n",
       "<text font-family=\"Times,serif\" font-size=\"14.00\" text-anchor=\"middle\" x=\"102.5\" y=\"-19.8\">coat_length: Dense</text>\n",
       "<polyline fill=\"none\" points=\"179.5,-0.5 179.5,-46.5 \" stroke=\"black\"/>\n",
       "<text font-family=\"Times,serif\" font-size=\"14.00\" text-anchor=\"middle\" x=\"213.5\" y=\"-31.3\">input:</text>\n",
       "<polyline fill=\"none\" points=\"179.5,-23.5 247.5,-23.5 \" stroke=\"black\"/>\n",
       "<text font-family=\"Times,serif\" font-size=\"14.00\" text-anchor=\"middle\" x=\"213.5\" y=\"-8.3\">output:</text>\n",
       "<polyline fill=\"none\" points=\"247.5,-0.5 247.5,-46.5 \" stroke=\"black\"/>\n",
       "<text font-family=\"Times,serif\" font-size=\"14.00\" text-anchor=\"middle\" x=\"302.5\" y=\"-31.3\">(None, 2048)</text>\n",
       "<polyline fill=\"none\" points=\"247.5,-23.5 357.5,-23.5 \" stroke=\"black\"/>\n",
       "<text font-family=\"Times,serif\" font-size=\"14.00\" text-anchor=\"middle\" x=\"302.5\" y=\"-8.3\">(None, 8)</text>\n",
       "</g>\n",
       "<!-- 139839281511056&#45;&gt;139839281511112 -->\n",
       "<g class=\"edge\" id=\"edge4\"><title>139839281511056-&gt;139839281511112</title>\n",
       "<path d=\"M191.5,-83.3664C191.5,-75.1516 191.5,-65.6579 191.5,-56.7252\" fill=\"none\" stroke=\"black\"/>\n",
       "<polygon fill=\"black\" points=\"195,-56.6068 191.5,-46.6068 188,-56.6069 195,-56.6068\" stroke=\"black\"/>\n",
       "</g>\n",
       "</g>\n",
       "</svg>"
      ],
      "text/plain": [
       "<IPython.core.display.SVG object>"
      ]
     },
     "execution_count": 14,
     "metadata": {},
     "output_type": "execute_result"
    }
   ],
   "source": [
    "input_tensor = Input((width, width, 3))\n",
    "x = input_tensor\n",
    "x = Lambda(resnet50.preprocess_input)(x)\n",
    "x = base_model(x)\n",
    "x = Dropout(0.5)(x)\n",
    "x = [Dense(count, activation='softmax', name=name)(x) for name, count in label_count.items()]\n",
    "\n",
    "model = Model(input_tensor, x)\n",
    "model.compile(optimizer='adam', loss='categorical_crossentropy', metrics=['accuracy'])\n",
    "\n",
    "from IPython.display import SVG\n",
    "from keras.utils.vis_utils import model_to_dot, plot_model\n",
    "\n",
    "plot_model(model, show_shapes=True, to_file='model_coat_length.png')\n",
    "SVG(model_to_dot(model, show_shapes=True).create(prog='dot', format='svg'))"
   ]
  },
  {
   "cell_type": "code",
   "execution_count": 15,
   "metadata": {},
   "outputs": [],
   "source": [
    "model2 = multi_gpu_model(model, n_gpus)"
   ]
  },
  {
   "cell_type": "code",
   "execution_count": 16,
   "metadata": {},
   "outputs": [
    {
     "name": "stdout",
     "output_type": "stream",
     "text": [
      "Epoch 1/8\n",
      "284/284 [==============================] - 377s 1s/step - loss: 1.1109 - acc: 0.5846 - val_loss: 0.6137 - val_acc: 0.7818\n",
      "Epoch 2/8\n",
      "284/284 [==============================] - 338s 1s/step - loss: 0.6181 - acc: 0.7782 - val_loss: 0.6808 - val_acc: 0.7959\n",
      "Epoch 3/8\n",
      "284/284 [==============================] - 333s 1s/step - loss: 0.4718 - acc: 0.8311 - val_loss: 0.4741 - val_acc: 0.8352\n",
      "Epoch 4/8\n",
      "284/284 [==============================] - 340s 1s/step - loss: 0.3820 - acc: 0.8622 - val_loss: 0.6519 - val_acc: 0.7911\n",
      "Epoch 5/8\n",
      "284/284 [==============================] - 337s 1s/step - loss: 0.3220 - acc: 0.8863 - val_loss: 0.5832 - val_acc: 0.8211\n",
      "Epoch 6/8\n",
      "284/284 [==============================] - 339s 1s/step - loss: 0.2716 - acc: 0.9081 - val_loss: 0.6654 - val_acc: 0.8008\n",
      "Epoch 7/8\n",
      "284/284 [==============================] - 341s 1s/step - loss: 0.2424 - acc: 0.9140 - val_loss: 0.6750 - val_acc: 0.8004\n",
      "Epoch 8/8\n",
      "284/284 [==============================] - 341s 1s/step - loss: 0.2106 - acc: 0.9250 - val_loss: 0.5739 - val_acc: 0.8330\n"
     ]
    },
    {
     "data": {
      "text/plain": [
       "<keras.callbacks.History at 0x7f2e6a3bbf60>"
      ]
     },
     "execution_count": 16,
     "metadata": {},
     "output_type": "execute_result"
    }
   ],
   "source": [
    "model2.compile(optimizer = Adam(0.0001),loss = 'categorical_crossentropy', metrics = ['accuracy'])\n",
    "model2.fit_generator(gen_train.generator, steps_per_epoch=gen_train.steps, \n",
    "                    epochs=8, validation_data=(X_valid, y_valid))"
   ]
  },
  {
   "cell_type": "code",
   "execution_count": 17,
   "metadata": {},
   "outputs": [
    {
     "name": "stdout",
     "output_type": "stream",
     "text": [
      "Epoch 1/3\n",
      "284/284 [==============================] - 373s 1s/step - loss: 0.1295 - acc: 0.9565 - val_loss: 0.4222 - val_acc: 0.8715\n",
      "Epoch 2/3\n",
      "284/284 [==============================] - 334s 1s/step - loss: 0.0910 - acc: 0.9691 - val_loss: 0.4491 - val_acc: 0.8715\n",
      "Epoch 3/3\n",
      "284/284 [==============================] - 335s 1s/step - loss: 0.0689 - acc: 0.9788 - val_loss: 0.5155 - val_acc: 0.8657\n"
     ]
    },
    {
     "data": {
      "text/plain": [
       "<keras.callbacks.History at 0x7f2e67886f60>"
      ]
     },
     "execution_count": 17,
     "metadata": {},
     "output_type": "execute_result"
    }
   ],
   "source": [
    "model2.compile(optimizer = Adam(0.000025),loss = 'categorical_crossentropy', metrics = ['accuracy'])\n",
    "model2.fit_generator(gen_train.generator, steps_per_epoch=gen_train.steps, \n",
    "                    epochs=3, validation_data=(X_valid, y_valid))"
   ]
  },
  {
   "cell_type": "code",
   "execution_count": 18,
   "metadata": {},
   "outputs": [
    {
     "name": "stdout",
     "output_type": "stream",
     "text": [
      "Epoch 1/3\n",
      "284/284 [==============================] - 376s 1s/step - loss: 0.0536 - acc: 0.9831 - val_loss: 0.4515 - val_acc: 0.8803\n",
      "Epoch 2/3\n",
      "284/284 [==============================] - 330s 1s/step - loss: 0.0506 - acc: 0.9845 - val_loss: 0.4500 - val_acc: 0.8812\n",
      "Epoch 3/3\n",
      "284/284 [==============================] - 340s 1s/step - loss: 0.0446 - acc: 0.9870 - val_loss: 0.4506 - val_acc: 0.8803\n"
     ]
    },
    {
     "data": {
      "text/plain": [
       "<keras.callbacks.History at 0x7f2e4c4d5550>"
      ]
     },
     "execution_count": 18,
     "metadata": {},
     "output_type": "execute_result"
    }
   ],
   "source": [
    "model2.compile(optimizer = Adam(0.00000625),loss = 'categorical_crossentropy', metrics = ['accuracy'])\n",
    "model2.fit_generator(gen_train.generator, steps_per_epoch=gen_train.steps, \n",
    "                    epochs=3, validation_data=(X_valid, y_valid))"
   ]
  },
  {
   "cell_type": "code",
   "execution_count": 19,
   "metadata": {},
   "outputs": [
    {
     "name": "stdout",
     "output_type": "stream",
     "text": [
      "Epoch 1/1\n",
      "284/284 [==============================] - 380s 1s/step - loss: 0.0402 - acc: 0.9888 - val_loss: 0.4663 - val_acc: 0.8785\n"
     ]
    },
    {
     "data": {
      "text/plain": [
       "<keras.callbacks.History at 0x7f2df7688c50>"
      ]
     },
     "execution_count": 19,
     "metadata": {},
     "output_type": "execute_result"
    }
   ],
   "source": [
    "model2.compile(optimizer = Adam(0.00000425),loss = 'categorical_crossentropy', metrics = ['accuracy'])\n",
    "model2.fit_generator(gen_train.generator, steps_per_epoch=gen_train.steps, \n",
    "                    epochs=1, validation_data=(X_valid, y_valid))"
   ]
  },
  {
   "cell_type": "code",
   "execution_count": 20,
   "metadata": {},
   "outputs": [
    {
     "name": "stdout",
     "output_type": "stream",
     "text": [
      "Epoch 1/1\n",
      "284/284 [==============================] - 384s 1s/step - loss: 0.0385 - acc: 0.9895 - val_loss: 0.4477 - val_acc: 0.8825\n"
     ]
    },
    {
     "data": {
      "text/plain": [
       "<keras.callbacks.History at 0x7f2de615afd0>"
      ]
     },
     "execution_count": 20,
     "metadata": {},
     "output_type": "execute_result"
    }
   ],
   "source": [
    "model2.compile(optimizer = Adam(0.000001),loss = 'categorical_crossentropy', metrics = ['accuracy'])\n",
    "model2.fit_generator(gen_train.generator, steps_per_epoch=gen_train.steps, \n",
    "                    epochs=1, validation_data=(X_valid, y_valid))"
   ]
  },
  {
   "cell_type": "code",
   "execution_count": 21,
   "metadata": {},
   "outputs": [],
   "source": [
    "model_name = 'resnet_coat_length'\n",
    "\n",
    "model.save('model_%s.h5' % model_name)"
   ]
  }
 ],
 "metadata": {
  "kernelspec": {
   "display_name": "Python 3",
   "language": "python",
   "name": "python3"
  },
  "language_info": {
   "codemirror_mode": {
    "name": "ipython",
    "version": 3
   },
   "file_extension": ".py",
   "mimetype": "text/x-python",
   "name": "python",
   "nbconvert_exporter": "python",
   "pygments_lexer": "ipython3",
   "version": "3.6.7"
  }
 },
 "nbformat": 4,
 "nbformat_minor": 2
}
