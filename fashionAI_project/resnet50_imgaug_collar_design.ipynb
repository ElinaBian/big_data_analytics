{
 "cells": [
  {
   "cell_type": "code",
   "execution_count": 1,
   "metadata": {},
   "outputs": [],
   "source": [
    "import tensorflow as tf"
   ]
  },
  {
   "cell_type": "code",
   "execution_count": 2,
   "metadata": {},
   "outputs": [
    {
     "name": "stderr",
     "output_type": "stream",
     "text": [
      "Using TensorFlow backend.\n"
     ]
    }
   ],
   "source": [
    "import os\n",
    "os.environ['CUDA_VISIBLE_DEVICES'] = '0,1,2,3'\n",
    "n_gpus = len(os.environ['CUDA_VISIBLE_DEVICES'].split(','))\n",
    "\n",
    "import keras.backend as K\n",
    "#import tensorflow as tf\n",
    "\n",
    "# gpu_options = tf.GPUOptions(per_process_gpu_memory_fraction=0.7)\n",
    "# sess = tf.Session(config=tf.ConfigProto(gpu_options=gpu_options))"
   ]
  },
  {
   "cell_type": "code",
   "execution_count": 3,
   "metadata": {},
   "outputs": [],
   "source": [
    "import numpy as np\n",
    "import pandas as pd\n",
    "from keras.layers import *\n",
    "from keras.models import *\n",
    "from keras.optimizers import *\n",
    "from keras.applications import *\n",
    "from keras.regularizers import l2\n",
    "\n",
    "from keras.preprocessing.image import *\n",
    "\n",
    "import matplotlib.pyplot as plt\n",
    "import random\n",
    "import os\n",
    "import cv2\n",
    "from tqdm import tqdm\n",
    "from glob import glob\n",
    "import multiprocessing\n",
    "\n",
    "from sklearn.model_selection import train_test_split\n",
    "from collections import Counter\n",
    "from keras import backend as K\n",
    "from keras.utils import multi_gpu_model\n",
    "\n",
    "from IPython.display import display, Image\n",
    "\n",
    "%matplotlib inline\n",
    "%config InlineBackend.figure_format = 'retina'\n"
   ]
  },
  {
   "cell_type": "code",
   "execution_count": 4,
   "metadata": {},
   "outputs": [
    {
     "data": {
      "text/html": [
       "<div>\n",
       "<style scoped>\n",
       "    .dataframe tbody tr th:only-of-type {\n",
       "        vertical-align: middle;\n",
       "    }\n",
       "\n",
       "    .dataframe tbody tr th {\n",
       "        vertical-align: top;\n",
       "    }\n",
       "\n",
       "    .dataframe thead th {\n",
       "        text-align: right;\n",
       "    }\n",
       "</style>\n",
       "<table border=\"1\" class=\"dataframe\">\n",
       "  <thead>\n",
       "    <tr style=\"text-align: right;\">\n",
       "      <th></th>\n",
       "      <th>filename</th>\n",
       "      <th>label_name</th>\n",
       "      <th>label</th>\n",
       "    </tr>\n",
       "  </thead>\n",
       "  <tbody>\n",
       "    <tr>\n",
       "      <th>2</th>\n",
       "      <td>Images/collar_design_labels/ab196ef0df2f768620...</td>\n",
       "      <td>collar_design</td>\n",
       "      <td>ynnnm</td>\n",
       "    </tr>\n",
       "    <tr>\n",
       "      <th>18</th>\n",
       "      <td>Images/collar_design_labels/392953ccbe181a1562...</td>\n",
       "      <td>collar_design</td>\n",
       "      <td>nnnny</td>\n",
       "    </tr>\n",
       "    <tr>\n",
       "      <th>21</th>\n",
       "      <td>Images/collar_design_labels/c971b3ecb2c3cbd84f...</td>\n",
       "      <td>collar_design</td>\n",
       "      <td>nnnny</td>\n",
       "    </tr>\n",
       "    <tr>\n",
       "      <th>23</th>\n",
       "      <td>Images/collar_design_labels/1dca5158e407a7fca8...</td>\n",
       "      <td>collar_design</td>\n",
       "      <td>nnnyn</td>\n",
       "    </tr>\n",
       "    <tr>\n",
       "      <th>38</th>\n",
       "      <td>Images/collar_design_labels/52090c48fff9128974...</td>\n",
       "      <td>collar_design</td>\n",
       "      <td>nnnny</td>\n",
       "    </tr>\n",
       "  </tbody>\n",
       "</table>\n",
       "</div>"
      ],
      "text/plain": [
       "                                             filename     label_name  label\n",
       "2   Images/collar_design_labels/ab196ef0df2f768620...  collar_design  ynnnm\n",
       "18  Images/collar_design_labels/392953ccbe181a1562...  collar_design  nnnny\n",
       "21  Images/collar_design_labels/c971b3ecb2c3cbd84f...  collar_design  nnnny\n",
       "23  Images/collar_design_labels/1dca5158e407a7fca8...  collar_design  nnnyn\n",
       "38  Images/collar_design_labels/52090c48fff9128974...  collar_design  nnnny"
      ]
     },
     "metadata": {},
     "output_type": "display_data"
    },
    {
     "data": {
      "text/plain": [
       "Counter({'collar_design': 8393})"
      ]
     },
     "execution_count": 4,
     "metadata": {},
     "output_type": "execute_result"
    }
   ],
   "source": [
    "df = pd.read_csv('data/Annotations/label.csv', header=None)\n",
    "df.columns = ['filename', 'label_name', 'label']\n",
    "df = df.sample(frac=1).reset_index(drop=True) # shuffle\n",
    "\n",
    "df.label_name = df.label_name.str.replace('_labels', '')\n",
    "df = df[df.label_name == 'collar_design']\n",
    "\n",
    "display(df.head())\n",
    "c = Counter(df.label_name)\n",
    "c"
   ]
  },
  {
   "cell_type": "code",
   "execution_count": 5,
   "metadata": {},
   "outputs": [
    {
     "data": {
      "text/plain": [
       "{'collar_design': 5}"
      ]
     },
     "metadata": {},
     "output_type": "display_data"
    }
   ],
   "source": [
    "label_count = dict([(x, len(df[df.label_name == x].label.values[0])) for x in c.keys()])\n",
    "label_names = list(label_count.keys())\n",
    "display(label_count)"
   ]
  },
  {
   "cell_type": "code",
   "execution_count": 6,
   "metadata": {},
   "outputs": [
    {
     "name": "stdout",
     "output_type": "stream",
     "text": [
      "8393\n"
     ]
    }
   ],
   "source": [
    "n = len(df)\n",
    "print(n)"
   ]
  },
  {
   "cell_type": "code",
   "execution_count": 7,
   "metadata": {},
   "outputs": [],
   "source": [
    "fnames = df['filename'].values\n",
    "width = 399\n",
    "\n",
    "y = [np.zeros((n, label_count[x])) for x in label_count.keys()]\n",
    "df = df.reset_index(drop=True)"
   ]
  },
  {
   "cell_type": "code",
   "execution_count": 8,
   "metadata": {},
   "outputs": [],
   "source": [
    "for i in range(n):\n",
    "    label_name = df.label_name[i]\n",
    "    label = df.label[i]\n",
    "    y[label_names.index(label_name)][i, label.find('y')] = 1\n",
    "    #y[label_names.index(label_name)][i, label.find('m')] = 0.5"
   ]
  },
  {
   "cell_type": "code",
   "execution_count": 9,
   "metadata": {},
   "outputs": [
    {
     "name": "stdout",
     "output_type": "stream",
     "text": [
      "['Images/collar_design_labels/ab196ef0df2f768620a3db69ef209947.jpg'\n",
      " 'Images/collar_design_labels/392953ccbe181a1562213312b6de66b7.jpg'\n",
      " 'Images/collar_design_labels/c971b3ecb2c3cbd84f95263cdef2aeb0.jpg'\n",
      " 'Images/collar_design_labels/1dca5158e407a7fca888b41d600f113a.jpg'\n",
      " 'Images/collar_design_labels/52090c48fff91289748e2fb2dec8066b.jpg'\n",
      " 'Images/collar_design_labels/aad9e1ab607be15dc63992d7b4d611ac.jpg'\n",
      " 'Images/collar_design_labels/e0911e3f326e3c126461a25b19b325c8.jpg'\n",
      " 'Images/collar_design_labels/ba78da694c5736a088fa69c591413fb1.jpg'\n",
      " 'Images/collar_design_labels/8d6523d93e1e22cc448e213be2406292.jpg'\n",
      " 'Images/collar_design_labels/977142e615cb7e3497d4f8df0a3b575c.jpg']\n",
      "8393\n",
      "8393\n",
      "1\n",
      "dict_keys(['collar_design'])\n",
      "5\n"
     ]
    }
   ],
   "source": [
    "print(fnames[0:10])\n",
    "print(n)\n",
    "print(len(y[0]))\n",
    "print(len(y))\n",
    "print(label_count.keys())\n",
    "print(len(y[0][0]))"
   ]
  },
  {
   "cell_type": "code",
   "execution_count": 10,
   "metadata": {},
   "outputs": [
    {
     "name": "stderr",
     "output_type": "stream",
     "text": [
      "100%|██████████| 8393/8393 [00:21<00:00, 382.79it/s]\n"
     ]
    }
   ],
   "source": [
    "def f(index):\n",
    "    if os.path.isfile('data/'+fnames[index]):\n",
    "        return index, cv2.resize(cv2.imread('data/'+fnames[index]), (width, width))\n",
    "\n",
    "X = np.zeros((n, width, width, 3), dtype=np.uint8)\n",
    "with multiprocessing.Pool(12) as pool:\n",
    "    with tqdm(pool.imap_unordered(f, range(n)), total=n) as pbar:\n",
    "        for i, img in pbar:\n",
    "            X[i] = img[:,:,::-1]"
   ]
  },
  {
   "cell_type": "code",
   "execution_count": 11,
   "metadata": {},
   "outputs": [],
   "source": [
    "n_train = int(n*0.8)\n",
    "\n",
    "X_train = X[:n_train]\n",
    "X_valid = X[n_train:]\n",
    "y_train = [x[:n_train] for x in y]\n",
    "y_valid = [x[n_train:] for x in y]"
   ]
  },
  {
   "cell_type": "code",
   "execution_count": 12,
   "metadata": {},
   "outputs": [],
   "source": [
    "from dataset import *\n",
    "gen_train = Generator(X_train, y_train, batch_size=32, aug=True)"
   ]
  },
  {
   "cell_type": "code",
   "execution_count": 13,
   "metadata": {},
   "outputs": [],
   "source": [
    "base_model = ResNet50(weights='imagenet', input_shape=(width, width, 3), include_top=False, pooling='avg')"
   ]
  },
  {
   "cell_type": "code",
   "execution_count": 14,
   "metadata": {},
   "outputs": [
    {
     "data": {
      "image/svg+xml": [
       "<svg height=\"387pt\" viewBox=\"0.00 0.00 391.00 387.00\" width=\"391pt\" xmlns=\"http://www.w3.org/2000/svg\" xmlns:xlink=\"http://www.w3.org/1999/xlink\">\n",
       "<g class=\"graph\" id=\"graph0\" transform=\"scale(1 1) rotate(0) translate(4 383)\">\n",
       "<title>G</title>\n",
       "<polygon fill=\"white\" points=\"-4,4 -4,-383 387,-383 387,4 -4,4\" stroke=\"none\"/>\n",
       "<!-- 140412285926480 -->\n",
       "<g class=\"node\" id=\"node1\"><title>140412285926480</title>\n",
       "<polygon fill=\"none\" points=\"-2.84217e-14,-332.5 -2.84217e-14,-378.5 383,-378.5 383,-332.5 -2.84217e-14,-332.5\" stroke=\"black\"/>\n",
       "<text font-family=\"Times,serif\" font-size=\"14.00\" text-anchor=\"middle\" x=\"80\" y=\"-351.8\">input_2: InputLayer</text>\n",
       "<polyline fill=\"none\" points=\"160,-332.5 160,-378.5 \" stroke=\"black\"/>\n",
       "<text font-family=\"Times,serif\" font-size=\"14.00\" text-anchor=\"middle\" x=\"194\" y=\"-363.3\">input:</text>\n",
       "<polyline fill=\"none\" points=\"160,-355.5 228,-355.5 \" stroke=\"black\"/>\n",
       "<text font-family=\"Times,serif\" font-size=\"14.00\" text-anchor=\"middle\" x=\"194\" y=\"-340.3\">output:</text>\n",
       "<polyline fill=\"none\" points=\"228,-332.5 228,-378.5 \" stroke=\"black\"/>\n",
       "<text font-family=\"Times,serif\" font-size=\"14.00\" text-anchor=\"middle\" x=\"305.5\" y=\"-363.3\">(None, 399, 399, 3)</text>\n",
       "<polyline fill=\"none\" points=\"228,-355.5 383,-355.5 \" stroke=\"black\"/>\n",
       "<text font-family=\"Times,serif\" font-size=\"14.00\" text-anchor=\"middle\" x=\"305.5\" y=\"-340.3\">(None, 399, 399, 3)</text>\n",
       "</g>\n",
       "<!-- 140412285923792 -->\n",
       "<g class=\"node\" id=\"node2\"><title>140412285923792</title>\n",
       "<polygon fill=\"none\" points=\"4,-249.5 4,-295.5 379,-295.5 379,-249.5 4,-249.5\" stroke=\"black\"/>\n",
       "<text font-family=\"Times,serif\" font-size=\"14.00\" text-anchor=\"middle\" x=\"80\" y=\"-268.8\">lambda_1: Lambda</text>\n",
       "<polyline fill=\"none\" points=\"156,-249.5 156,-295.5 \" stroke=\"black\"/>\n",
       "<text font-family=\"Times,serif\" font-size=\"14.00\" text-anchor=\"middle\" x=\"190\" y=\"-280.3\">input:</text>\n",
       "<polyline fill=\"none\" points=\"156,-272.5 224,-272.5 \" stroke=\"black\"/>\n",
       "<text font-family=\"Times,serif\" font-size=\"14.00\" text-anchor=\"middle\" x=\"190\" y=\"-257.3\">output:</text>\n",
       "<polyline fill=\"none\" points=\"224,-249.5 224,-295.5 \" stroke=\"black\"/>\n",
       "<text font-family=\"Times,serif\" font-size=\"14.00\" text-anchor=\"middle\" x=\"301.5\" y=\"-280.3\">(None, 399, 399, 3)</text>\n",
       "<polyline fill=\"none\" points=\"224,-272.5 379,-272.5 \" stroke=\"black\"/>\n",
       "<text font-family=\"Times,serif\" font-size=\"14.00\" text-anchor=\"middle\" x=\"301.5\" y=\"-257.3\">(None, 399, 399, 3)</text>\n",
       "</g>\n",
       "<!-- 140412285926480&#45;&gt;140412285923792 -->\n",
       "<g class=\"edge\" id=\"edge1\"><title>140412285926480-&gt;140412285923792</title>\n",
       "<path d=\"M191.5,-332.366C191.5,-324.152 191.5,-314.658 191.5,-305.725\" fill=\"none\" stroke=\"black\"/>\n",
       "<polygon fill=\"black\" points=\"195,-305.607 191.5,-295.607 188,-305.607 195,-305.607\" stroke=\"black\"/>\n",
       "</g>\n",
       "<!-- 140412970968120 -->\n",
       "<g class=\"node\" id=\"node3\"><title>140412970968120</title>\n",
       "<polygon fill=\"none\" points=\"13,-166.5 13,-212.5 370,-212.5 370,-166.5 13,-166.5\" stroke=\"black\"/>\n",
       "<text font-family=\"Times,serif\" font-size=\"14.00\" text-anchor=\"middle\" x=\"80\" y=\"-185.8\">resnet50: Model</text>\n",
       "<polyline fill=\"none\" points=\"147,-166.5 147,-212.5 \" stroke=\"black\"/>\n",
       "<text font-family=\"Times,serif\" font-size=\"14.00\" text-anchor=\"middle\" x=\"181\" y=\"-197.3\">input:</text>\n",
       "<polyline fill=\"none\" points=\"147,-189.5 215,-189.5 \" stroke=\"black\"/>\n",
       "<text font-family=\"Times,serif\" font-size=\"14.00\" text-anchor=\"middle\" x=\"181\" y=\"-174.3\">output:</text>\n",
       "<polyline fill=\"none\" points=\"215,-166.5 215,-212.5 \" stroke=\"black\"/>\n",
       "<text font-family=\"Times,serif\" font-size=\"14.00\" text-anchor=\"middle\" x=\"292.5\" y=\"-197.3\">(None, 399, 399, 3)</text>\n",
       "<polyline fill=\"none\" points=\"215,-189.5 370,-189.5 \" stroke=\"black\"/>\n",
       "<text font-family=\"Times,serif\" font-size=\"14.00\" text-anchor=\"middle\" x=\"292.5\" y=\"-174.3\">(None, 2048)</text>\n",
       "</g>\n",
       "<!-- 140412285923792&#45;&gt;140412970968120 -->\n",
       "<g class=\"edge\" id=\"edge2\"><title>140412285923792-&gt;140412970968120</title>\n",
       "<path d=\"M191.5,-249.366C191.5,-241.152 191.5,-231.658 191.5,-222.725\" fill=\"none\" stroke=\"black\"/>\n",
       "<polygon fill=\"black\" points=\"195,-222.607 191.5,-212.607 188,-222.607 195,-222.607\" stroke=\"black\"/>\n",
       "</g>\n",
       "<!-- 140412285924800 -->\n",
       "<g class=\"node\" id=\"node4\"><title>140412285924800</title>\n",
       "<polygon fill=\"none\" points=\"24,-83.5 24,-129.5 359,-129.5 359,-83.5 24,-83.5\" stroke=\"black\"/>\n",
       "<text font-family=\"Times,serif\" font-size=\"14.00\" text-anchor=\"middle\" x=\"102.5\" y=\"-102.8\">dropout_1: Dropout</text>\n",
       "<polyline fill=\"none\" points=\"181,-83.5 181,-129.5 \" stroke=\"black\"/>\n",
       "<text font-family=\"Times,serif\" font-size=\"14.00\" text-anchor=\"middle\" x=\"215\" y=\"-114.3\">input:</text>\n",
       "<polyline fill=\"none\" points=\"181,-106.5 249,-106.5 \" stroke=\"black\"/>\n",
       "<text font-family=\"Times,serif\" font-size=\"14.00\" text-anchor=\"middle\" x=\"215\" y=\"-91.3\">output:</text>\n",
       "<polyline fill=\"none\" points=\"249,-83.5 249,-129.5 \" stroke=\"black\"/>\n",
       "<text font-family=\"Times,serif\" font-size=\"14.00\" text-anchor=\"middle\" x=\"304\" y=\"-114.3\">(None, 2048)</text>\n",
       "<polyline fill=\"none\" points=\"249,-106.5 359,-106.5 \" stroke=\"black\"/>\n",
       "<text font-family=\"Times,serif\" font-size=\"14.00\" text-anchor=\"middle\" x=\"304\" y=\"-91.3\">(None, 2048)</text>\n",
       "</g>\n",
       "<!-- 140412970968120&#45;&gt;140412285924800 -->\n",
       "<g class=\"edge\" id=\"edge3\"><title>140412970968120-&gt;140412285924800</title>\n",
       "<path d=\"M191.5,-166.366C191.5,-158.152 191.5,-148.658 191.5,-139.725\" fill=\"none\" stroke=\"black\"/>\n",
       "<polygon fill=\"black\" points=\"195,-139.607 191.5,-129.607 188,-139.607 195,-139.607\" stroke=\"black\"/>\n",
       "</g>\n",
       "<!-- 140412285924968 -->\n",
       "<g class=\"node\" id=\"node5\"><title>140412285924968</title>\n",
       "<polygon fill=\"none\" points=\"20,-0.5 20,-46.5 363,-46.5 363,-0.5 20,-0.5\" stroke=\"black\"/>\n",
       "<text font-family=\"Times,serif\" font-size=\"14.00\" text-anchor=\"middle\" x=\"102.5\" y=\"-19.8\">collar_design: Dense</text>\n",
       "<polyline fill=\"none\" points=\"185,-0.5 185,-46.5 \" stroke=\"black\"/>\n",
       "<text font-family=\"Times,serif\" font-size=\"14.00\" text-anchor=\"middle\" x=\"219\" y=\"-31.3\">input:</text>\n",
       "<polyline fill=\"none\" points=\"185,-23.5 253,-23.5 \" stroke=\"black\"/>\n",
       "<text font-family=\"Times,serif\" font-size=\"14.00\" text-anchor=\"middle\" x=\"219\" y=\"-8.3\">output:</text>\n",
       "<polyline fill=\"none\" points=\"253,-0.5 253,-46.5 \" stroke=\"black\"/>\n",
       "<text font-family=\"Times,serif\" font-size=\"14.00\" text-anchor=\"middle\" x=\"308\" y=\"-31.3\">(None, 2048)</text>\n",
       "<polyline fill=\"none\" points=\"253,-23.5 363,-23.5 \" stroke=\"black\"/>\n",
       "<text font-family=\"Times,serif\" font-size=\"14.00\" text-anchor=\"middle\" x=\"308\" y=\"-8.3\">(None, 5)</text>\n",
       "</g>\n",
       "<!-- 140412285924800&#45;&gt;140412285924968 -->\n",
       "<g class=\"edge\" id=\"edge4\"><title>140412285924800-&gt;140412285924968</title>\n",
       "<path d=\"M191.5,-83.3664C191.5,-75.1516 191.5,-65.6579 191.5,-56.7252\" fill=\"none\" stroke=\"black\"/>\n",
       "<polygon fill=\"black\" points=\"195,-56.6068 191.5,-46.6068 188,-56.6069 195,-56.6068\" stroke=\"black\"/>\n",
       "</g>\n",
       "</g>\n",
       "</svg>"
      ],
      "text/plain": [
       "<IPython.core.display.SVG object>"
      ]
     },
     "execution_count": 14,
     "metadata": {},
     "output_type": "execute_result"
    }
   ],
   "source": [
    "input_tensor = Input((width, width, 3))\n",
    "x = input_tensor\n",
    "x = Lambda(resnet50.preprocess_input)(x)\n",
    "x = base_model(x)\n",
    "x = Dropout(0.5)(x)\n",
    "x = [Dense(count, activation='softmax', name=name)(x) for name, count in label_count.items()]\n",
    "\n",
    "model = Model(input_tensor, x)\n",
    "model.compile(optimizer='adam', loss='categorical_crossentropy', metrics=['accuracy'])\n",
    "\n",
    "from IPython.display import SVG\n",
    "from keras.utils.vis_utils import model_to_dot, plot_model\n",
    "\n",
    "plot_model(model, show_shapes=True, to_file='model_collar_design.png')\n",
    "SVG(model_to_dot(model, show_shapes=True).create(prog='dot', format='svg'))"
   ]
  },
  {
   "cell_type": "code",
   "execution_count": 15,
   "metadata": {},
   "outputs": [],
   "source": [
    "model2 = multi_gpu_model(model, n_gpus)"
   ]
  },
  {
   "cell_type": "code",
   "execution_count": 16,
   "metadata": {},
   "outputs": [
    {
     "name": "stdout",
     "output_type": "stream",
     "text": [
      "Epoch 1/5\n",
      "210/210 [==============================] - 304s 1s/step - loss: 1.0597 - acc: 0.5920 - val_loss: 0.6202 - val_acc: 0.7850\n",
      "Epoch 2/5\n",
      "210/210 [==============================] - 260s 1s/step - loss: 0.6209 - acc: 0.7721 - val_loss: 0.6004 - val_acc: 0.8052\n",
      "Epoch 3/5\n",
      "210/210 [==============================] - 258s 1s/step - loss: 0.4811 - acc: 0.8217 - val_loss: 0.5646 - val_acc: 0.8017\n",
      "Epoch 4/5\n",
      "210/210 [==============================] - 259s 1s/step - loss: 0.3793 - acc: 0.8630 - val_loss: 0.6303 - val_acc: 0.7957\n",
      "Epoch 5/5\n",
      "210/210 [==============================] - 258s 1s/step - loss: 0.3253 - acc: 0.8810 - val_loss: 0.6028 - val_acc: 0.8291\n"
     ]
    },
    {
     "data": {
      "text/plain": [
       "<keras.callbacks.History at 0x7fb43559c160>"
      ]
     },
     "execution_count": 16,
     "metadata": {},
     "output_type": "execute_result"
    }
   ],
   "source": [
    "model2.compile(optimizer = Adam(0.0001),loss = 'categorical_crossentropy', metrics = ['accuracy'])\n",
    "model2.fit_generator(gen_train.generator, steps_per_epoch=gen_train.steps, \n",
    "                    epochs=5, validation_data=(X_valid, y_valid))"
   ]
  },
  {
   "cell_type": "code",
   "execution_count": 17,
   "metadata": {},
   "outputs": [
    {
     "name": "stdout",
     "output_type": "stream",
     "text": [
      "Epoch 1/5\n",
      "210/210 [==============================] - 297s 1s/step - loss: 0.2250 - acc: 0.9214 - val_loss: 0.4663 - val_acc: 0.8553\n",
      "Epoch 2/5\n",
      "210/210 [==============================] - 256s 1s/step - loss: 0.1648 - acc: 0.9428 - val_loss: 0.4820 - val_acc: 0.8612\n",
      "Epoch 3/5\n",
      "210/210 [==============================] - 255s 1s/step - loss: 0.1390 - acc: 0.9514 - val_loss: 0.4772 - val_acc: 0.8642\n",
      "Epoch 4/5\n",
      "210/210 [==============================] - 257s 1s/step - loss: 0.1259 - acc: 0.9577 - val_loss: 0.5176 - val_acc: 0.8523\n",
      "Epoch 5/5\n",
      "210/210 [==============================] - 257s 1s/step - loss: 0.1068 - acc: 0.9635 - val_loss: 0.6116 - val_acc: 0.8446\n"
     ]
    },
    {
     "data": {
      "text/plain": [
       "<keras.callbacks.History at 0x7fb3c21cb1d0>"
      ]
     },
     "execution_count": 17,
     "metadata": {},
     "output_type": "execute_result"
    }
   ],
   "source": [
    "model2.compile(optimizer = Adam(0.000025),loss = 'categorical_crossentropy', metrics = ['accuracy'])\n",
    "model2.fit_generator(gen_train.generator, steps_per_epoch=gen_train.steps, \n",
    "                    epochs=5, validation_data=(X_valid, y_valid))"
   ]
  },
  {
   "cell_type": "code",
   "execution_count": 18,
   "metadata": {},
   "outputs": [
    {
     "name": "stdout",
     "output_type": "stream",
     "text": [
      "Epoch 1/3\n",
      "210/210 [==============================] - 298s 1s/step - loss: 0.0974 - acc: 0.9677 - val_loss: 0.5215 - val_acc: 0.8618\n",
      "Epoch 2/3\n",
      "210/210 [==============================] - 257s 1s/step - loss: 0.0765 - acc: 0.9751 - val_loss: 0.5406 - val_acc: 0.8606\n",
      "Epoch 3/3\n",
      "210/210 [==============================] - 255s 1s/step - loss: 0.0817 - acc: 0.9732 - val_loss: 0.5145 - val_acc: 0.8642\n"
     ]
    },
    {
     "data": {
      "text/plain": [
       "<keras.callbacks.History at 0x7fb3b8d8fe48>"
      ]
     },
     "execution_count": 18,
     "metadata": {},
     "output_type": "execute_result"
    }
   ],
   "source": [
    "model2.compile(optimizer = Adam(0.00000625),loss = 'categorical_crossentropy', metrics = ['accuracy'])\n",
    "model2.fit_generator(gen_train.generator, steps_per_epoch=gen_train.steps, \n",
    "                    epochs=3, validation_data=(X_valid, y_valid))"
   ]
  },
  {
   "cell_type": "code",
   "execution_count": 19,
   "metadata": {},
   "outputs": [
    {
     "name": "stdout",
     "output_type": "stream",
     "text": [
      "Epoch 1/1\n",
      "210/210 [==============================] - 302s 1s/step - loss: 0.0819 - acc: 0.9711 - val_loss: 0.5138 - val_acc: 0.8672\n"
     ]
    },
    {
     "data": {
      "text/plain": [
       "<keras.callbacks.History at 0x7fb3aaccc3c8>"
      ]
     },
     "execution_count": 19,
     "metadata": {},
     "output_type": "execute_result"
    }
   ],
   "source": [
    "model2.compile(optimizer = Adam(0.00000425),loss = 'categorical_crossentropy', metrics = ['accuracy'])\n",
    "model2.fit_generator(gen_train.generator, steps_per_epoch=gen_train.steps, \n",
    "                    epochs=1, validation_data=(X_valid, y_valid))"
   ]
  },
  {
   "cell_type": "code",
   "execution_count": 20,
   "metadata": {},
   "outputs": [
    {
     "name": "stdout",
     "output_type": "stream",
     "text": [
      "Epoch 1/1\n",
      "210/210 [==============================] - 300s 1s/step - loss: 0.0652 - acc: 0.9786 - val_loss: 0.5162 - val_acc: 0.8696\n"
     ]
    },
    {
     "data": {
      "text/plain": [
       "<keras.callbacks.History at 0x7fb432aa9ba8>"
      ]
     },
     "execution_count": 20,
     "metadata": {},
     "output_type": "execute_result"
    }
   ],
   "source": [
    "model2.compile(optimizer = Adam(0.000001),loss = 'categorical_crossentropy', metrics = ['accuracy'])\n",
    "model2.fit_generator(gen_train.generator, steps_per_epoch=gen_train.steps, \n",
    "                    epochs=1, validation_data=(X_valid, y_valid))"
   ]
  },
  {
   "cell_type": "code",
   "execution_count": 21,
   "metadata": {},
   "outputs": [],
   "source": [
    "model_name = 'resnet_collar_design'\n",
    "\n",
    "model.save('model_%s.h5' % model_name)"
   ]
  }
 ],
 "metadata": {
  "kernelspec": {
   "display_name": "Python 3",
   "language": "python",
   "name": "python3"
  },
  "language_info": {
   "codemirror_mode": {
    "name": "ipython",
    "version": 3
   },
   "file_extension": ".py",
   "mimetype": "text/x-python",
   "name": "python",
   "nbconvert_exporter": "python",
   "pygments_lexer": "ipython3",
   "version": "3.6.7"
  }
 },
 "nbformat": 4,
 "nbformat_minor": 2
}
