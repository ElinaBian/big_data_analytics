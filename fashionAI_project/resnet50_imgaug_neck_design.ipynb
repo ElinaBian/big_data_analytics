{
 "cells": [
  {
   "cell_type": "code",
   "execution_count": 1,
   "metadata": {},
   "outputs": [],
   "source": [
    "import tensorflow as tf"
   ]
  },
  {
   "cell_type": "code",
   "execution_count": 2,
   "metadata": {},
   "outputs": [
    {
     "name": "stderr",
     "output_type": "stream",
     "text": [
      "Using TensorFlow backend.\n"
     ]
    }
   ],
   "source": [
    "import os\n",
    "os.environ['CUDA_VISIBLE_DEVICES'] = '0,1,2,3'\n",
    "n_gpus = len(os.environ['CUDA_VISIBLE_DEVICES'].split(','))\n",
    "\n",
    "import keras.backend as K\n",
    "#import tensorflow as tf\n",
    "\n",
    "# gpu_options = tf.GPUOptions(per_process_gpu_memory_fraction=0.7)\n",
    "# sess = tf.Session(config=tf.ConfigProto(gpu_options=gpu_options))"
   ]
  },
  {
   "cell_type": "code",
   "execution_count": 3,
   "metadata": {},
   "outputs": [],
   "source": [
    "import numpy as np\n",
    "import pandas as pd\n",
    "from keras.layers import *\n",
    "from keras.models import *\n",
    "from keras.optimizers import *\n",
    "from keras.applications import *\n",
    "from keras.regularizers import l2\n",
    "\n",
    "from keras.preprocessing.image import *\n",
    "\n",
    "import matplotlib.pyplot as plt\n",
    "import random\n",
    "import os\n",
    "import cv2\n",
    "from tqdm import tqdm\n",
    "from glob import glob\n",
    "import multiprocessing\n",
    "\n",
    "from sklearn.model_selection import train_test_split\n",
    "from collections import Counter\n",
    "from keras import backend as K\n",
    "from keras.utils import multi_gpu_model\n",
    "\n",
    "from IPython.display import display, Image\n",
    "\n",
    "%matplotlib inline\n",
    "%config InlineBackend.figure_format = 'retina'\n"
   ]
  },
  {
   "cell_type": "code",
   "execution_count": 4,
   "metadata": {},
   "outputs": [
    {
     "data": {
      "text/html": [
       "<div>\n",
       "<style scoped>\n",
       "    .dataframe tbody tr th:only-of-type {\n",
       "        vertical-align: middle;\n",
       "    }\n",
       "\n",
       "    .dataframe tbody tr th {\n",
       "        vertical-align: top;\n",
       "    }\n",
       "\n",
       "    .dataframe thead th {\n",
       "        text-align: right;\n",
       "    }\n",
       "</style>\n",
       "<table border=\"1\" class=\"dataframe\">\n",
       "  <thead>\n",
       "    <tr style=\"text-align: right;\">\n",
       "      <th></th>\n",
       "      <th>filename</th>\n",
       "      <th>label_name</th>\n",
       "      <th>label</th>\n",
       "    </tr>\n",
       "  </thead>\n",
       "  <tbody>\n",
       "    <tr>\n",
       "      <th>2</th>\n",
       "      <td>Images/neck_design_labels/54379aaa265617bc3193...</td>\n",
       "      <td>neck_design</td>\n",
       "      <td>ynnnn</td>\n",
       "    </tr>\n",
       "    <tr>\n",
       "      <th>8</th>\n",
       "      <td>Images/neck_design_labels/f0a9baa9a6771f949eab...</td>\n",
       "      <td>neck_design</td>\n",
       "      <td>nnynn</td>\n",
       "    </tr>\n",
       "    <tr>\n",
       "      <th>26</th>\n",
       "      <td>Images/neck_design_labels/ff317ac985f5f185def5...</td>\n",
       "      <td>neck_design</td>\n",
       "      <td>nynnn</td>\n",
       "    </tr>\n",
       "    <tr>\n",
       "      <th>38</th>\n",
       "      <td>Images/neck_design_labels/efdb17bcf8ad00ffb6dc...</td>\n",
       "      <td>neck_design</td>\n",
       "      <td>ynnnn</td>\n",
       "    </tr>\n",
       "    <tr>\n",
       "      <th>40</th>\n",
       "      <td>Images/neck_design_labels/08abc65d474bed33bd00...</td>\n",
       "      <td>neck_design</td>\n",
       "      <td>nnynn</td>\n",
       "    </tr>\n",
       "  </tbody>\n",
       "</table>\n",
       "</div>"
      ],
      "text/plain": [
       "                                             filename   label_name  label\n",
       "2   Images/neck_design_labels/54379aaa265617bc3193...  neck_design  ynnnn\n",
       "8   Images/neck_design_labels/f0a9baa9a6771f949eab...  neck_design  nnynn\n",
       "26  Images/neck_design_labels/ff317ac985f5f185def5...  neck_design  nynnn\n",
       "38  Images/neck_design_labels/efdb17bcf8ad00ffb6dc...  neck_design  ynnnn\n",
       "40  Images/neck_design_labels/08abc65d474bed33bd00...  neck_design  nnynn"
      ]
     },
     "metadata": {},
     "output_type": "display_data"
    },
    {
     "data": {
      "text/plain": [
       "Counter({'neck_design': 5696})"
      ]
     },
     "execution_count": 4,
     "metadata": {},
     "output_type": "execute_result"
    }
   ],
   "source": [
    "df = pd.read_csv('data/Annotations/label.csv', header=None)\n",
    "df.columns = ['filename', 'label_name', 'label']\n",
    "df = df.sample(frac=1).reset_index(drop=True) # shuffle\n",
    "\n",
    "df.label_name = df.label_name.str.replace('_labels', '')\n",
    "df = df[df.label_name == 'neck_design']\n",
    "\n",
    "display(df.head())\n",
    "c = Counter(df.label_name)\n",
    "c"
   ]
  },
  {
   "cell_type": "code",
   "execution_count": 5,
   "metadata": {},
   "outputs": [
    {
     "data": {
      "text/plain": [
       "{'neck_design': 5}"
      ]
     },
     "metadata": {},
     "output_type": "display_data"
    }
   ],
   "source": [
    "label_count = dict([(x, len(df[df.label_name == x].label.values[0])) for x in c.keys()])\n",
    "label_names = list(label_count.keys())\n",
    "display(label_count)"
   ]
  },
  {
   "cell_type": "code",
   "execution_count": 6,
   "metadata": {},
   "outputs": [
    {
     "name": "stdout",
     "output_type": "stream",
     "text": [
      "5696\n"
     ]
    }
   ],
   "source": [
    "n = len(df)\n",
    "print(n)"
   ]
  },
  {
   "cell_type": "code",
   "execution_count": 7,
   "metadata": {},
   "outputs": [],
   "source": [
    "fnames = df['filename'].values\n",
    "width = 399\n",
    "\n",
    "y = [np.zeros((n, label_count[x])) for x in label_count.keys()]\n",
    "df = df.reset_index(drop=True)"
   ]
  },
  {
   "cell_type": "code",
   "execution_count": 8,
   "metadata": {},
   "outputs": [],
   "source": [
    "for i in range(n):\n",
    "    label_name = df.label_name[i]\n",
    "    label = df.label[i]\n",
    "    y[label_names.index(label_name)][i, label.find('y')] = 1\n",
    "    #y[label_names.index(label_name)][i, label.find('m')] = 0.5"
   ]
  },
  {
   "cell_type": "code",
   "execution_count": 9,
   "metadata": {},
   "outputs": [
    {
     "name": "stdout",
     "output_type": "stream",
     "text": [
      "['Images/neck_design_labels/54379aaa265617bc319393724ccde50c.jpg'\n",
      " 'Images/neck_design_labels/f0a9baa9a6771f949eab310a316831c4.jpg'\n",
      " 'Images/neck_design_labels/ff317ac985f5f185def591487684a7c0.jpg'\n",
      " 'Images/neck_design_labels/efdb17bcf8ad00ffb6dc766a875e6ab2.jpg'\n",
      " 'Images/neck_design_labels/08abc65d474bed33bd004aea5ca61848.jpg'\n",
      " 'Images/neck_design_labels/17715fbfe5fb46ae787e07794ed0d068.jpg'\n",
      " 'Images/neck_design_labels/eb102e594c1d3738c19aaa475e560334.jpg'\n",
      " 'Images/neck_design_labels/92b5116525a0a8fdd7daa6c8a3b42da2.jpg'\n",
      " 'Images/neck_design_labels/e5aa30806835b02cfd23b062868c45f1.jpg'\n",
      " 'Images/neck_design_labels/65536bfdfbc06bd6b14a1818da28caeb.jpg']\n",
      "5696\n",
      "5696\n",
      "1\n",
      "dict_keys(['neck_design'])\n",
      "5\n"
     ]
    }
   ],
   "source": [
    "print(fnames[0:10])\n",
    "print(n)\n",
    "print(len(y[0]))\n",
    "print(len(y))\n",
    "print(label_count.keys())\n",
    "print(len(y[0][0]))"
   ]
  },
  {
   "cell_type": "code",
   "execution_count": 10,
   "metadata": {},
   "outputs": [
    {
     "name": "stderr",
     "output_type": "stream",
     "text": [
      "100%|██████████| 5696/5696 [00:09<00:00, 574.31it/s]\n"
     ]
    }
   ],
   "source": [
    "def f(index):\n",
    "    if os.path.isfile('data/'+fnames[index]):\n",
    "        return index, cv2.resize(cv2.imread('data/'+fnames[index]), (width, width))\n",
    "\n",
    "X = np.zeros((n, width, width, 3), dtype=np.uint8)\n",
    "with multiprocessing.Pool(12) as pool:\n",
    "    with tqdm(pool.imap_unordered(f, range(n)), total=n) as pbar:\n",
    "        for i, img in pbar:\n",
    "            X[i] = img[:,:,::-1]"
   ]
  },
  {
   "cell_type": "code",
   "execution_count": 11,
   "metadata": {},
   "outputs": [],
   "source": [
    "n_train = int(n*0.8)\n",
    "\n",
    "X_train = X[:n_train]\n",
    "X_valid = X[n_train:]\n",
    "y_train = [x[:n_train] for x in y]\n",
    "y_valid = [x[n_train:] for x in y]"
   ]
  },
  {
   "cell_type": "code",
   "execution_count": 12,
   "metadata": {},
   "outputs": [],
   "source": [
    "from dataset import *\n",
    "gen_train = Generator(X_train, y_train, batch_size=32, aug=True)"
   ]
  },
  {
   "cell_type": "code",
   "execution_count": 13,
   "metadata": {},
   "outputs": [],
   "source": [
    "base_model = ResNet50(weights='imagenet', input_shape=(width, width, 3), include_top=False, pooling='avg')"
   ]
  },
  {
   "cell_type": "code",
   "execution_count": 14,
   "metadata": {},
   "outputs": [
    {
     "data": {
      "image/svg+xml": [
       "<svg height=\"387pt\" viewBox=\"0.00 0.00 391.00 387.00\" width=\"391pt\" xmlns=\"http://www.w3.org/2000/svg\" xmlns:xlink=\"http://www.w3.org/1999/xlink\">\n",
       "<g class=\"graph\" id=\"graph0\" transform=\"scale(1 1) rotate(0) translate(4 383)\">\n",
       "<title>G</title>\n",
       "<polygon fill=\"white\" points=\"-4,4 -4,-383 387,-383 387,4 -4,4\" stroke=\"none\"/>\n",
       "<!-- 140218280323112 -->\n",
       "<g class=\"node\" id=\"node1\"><title>140218280323112</title>\n",
       "<polygon fill=\"none\" points=\"-2.84217e-14,-332.5 -2.84217e-14,-378.5 383,-378.5 383,-332.5 -2.84217e-14,-332.5\" stroke=\"black\"/>\n",
       "<text font-family=\"Times,serif\" font-size=\"14.00\" text-anchor=\"middle\" x=\"80\" y=\"-351.8\">input_2: InputLayer</text>\n",
       "<polyline fill=\"none\" points=\"160,-332.5 160,-378.5 \" stroke=\"black\"/>\n",
       "<text font-family=\"Times,serif\" font-size=\"14.00\" text-anchor=\"middle\" x=\"194\" y=\"-363.3\">input:</text>\n",
       "<polyline fill=\"none\" points=\"160,-355.5 228,-355.5 \" stroke=\"black\"/>\n",
       "<text font-family=\"Times,serif\" font-size=\"14.00\" text-anchor=\"middle\" x=\"194\" y=\"-340.3\">output:</text>\n",
       "<polyline fill=\"none\" points=\"228,-332.5 228,-378.5 \" stroke=\"black\"/>\n",
       "<text font-family=\"Times,serif\" font-size=\"14.00\" text-anchor=\"middle\" x=\"305.5\" y=\"-363.3\">(None, 399, 399, 3)</text>\n",
       "<polyline fill=\"none\" points=\"228,-355.5 383,-355.5 \" stroke=\"black\"/>\n",
       "<text font-family=\"Times,serif\" font-size=\"14.00\" text-anchor=\"middle\" x=\"305.5\" y=\"-340.3\">(None, 399, 399, 3)</text>\n",
       "</g>\n",
       "<!-- 140218280321992 -->\n",
       "<g class=\"node\" id=\"node2\"><title>140218280321992</title>\n",
       "<polygon fill=\"none\" points=\"4,-249.5 4,-295.5 379,-295.5 379,-249.5 4,-249.5\" stroke=\"black\"/>\n",
       "<text font-family=\"Times,serif\" font-size=\"14.00\" text-anchor=\"middle\" x=\"80\" y=\"-268.8\">lambda_1: Lambda</text>\n",
       "<polyline fill=\"none\" points=\"156,-249.5 156,-295.5 \" stroke=\"black\"/>\n",
       "<text font-family=\"Times,serif\" font-size=\"14.00\" text-anchor=\"middle\" x=\"190\" y=\"-280.3\">input:</text>\n",
       "<polyline fill=\"none\" points=\"156,-272.5 224,-272.5 \" stroke=\"black\"/>\n",
       "<text font-family=\"Times,serif\" font-size=\"14.00\" text-anchor=\"middle\" x=\"190\" y=\"-257.3\">output:</text>\n",
       "<polyline fill=\"none\" points=\"224,-249.5 224,-295.5 \" stroke=\"black\"/>\n",
       "<text font-family=\"Times,serif\" font-size=\"14.00\" text-anchor=\"middle\" x=\"301.5\" y=\"-280.3\">(None, 399, 399, 3)</text>\n",
       "<polyline fill=\"none\" points=\"224,-272.5 379,-272.5 \" stroke=\"black\"/>\n",
       "<text font-family=\"Times,serif\" font-size=\"14.00\" text-anchor=\"middle\" x=\"301.5\" y=\"-257.3\">(None, 399, 399, 3)</text>\n",
       "</g>\n",
       "<!-- 140218280323112&#45;&gt;140218280321992 -->\n",
       "<g class=\"edge\" id=\"edge1\"><title>140218280323112-&gt;140218280321992</title>\n",
       "<path d=\"M191.5,-332.366C191.5,-324.152 191.5,-314.658 191.5,-305.725\" fill=\"none\" stroke=\"black\"/>\n",
       "<polygon fill=\"black\" points=\"195,-305.607 191.5,-295.607 188,-305.607 195,-305.607\" stroke=\"black\"/>\n",
       "</g>\n",
       "<!-- 140218763912080 -->\n",
       "<g class=\"node\" id=\"node3\"><title>140218763912080</title>\n",
       "<polygon fill=\"none\" points=\"13,-166.5 13,-212.5 370,-212.5 370,-166.5 13,-166.5\" stroke=\"black\"/>\n",
       "<text font-family=\"Times,serif\" font-size=\"14.00\" text-anchor=\"middle\" x=\"80\" y=\"-185.8\">resnet50: Model</text>\n",
       "<polyline fill=\"none\" points=\"147,-166.5 147,-212.5 \" stroke=\"black\"/>\n",
       "<text font-family=\"Times,serif\" font-size=\"14.00\" text-anchor=\"middle\" x=\"181\" y=\"-197.3\">input:</text>\n",
       "<polyline fill=\"none\" points=\"147,-189.5 215,-189.5 \" stroke=\"black\"/>\n",
       "<text font-family=\"Times,serif\" font-size=\"14.00\" text-anchor=\"middle\" x=\"181\" y=\"-174.3\">output:</text>\n",
       "<polyline fill=\"none\" points=\"215,-166.5 215,-212.5 \" stroke=\"black\"/>\n",
       "<text font-family=\"Times,serif\" font-size=\"14.00\" text-anchor=\"middle\" x=\"292.5\" y=\"-197.3\">(None, 399, 399, 3)</text>\n",
       "<polyline fill=\"none\" points=\"215,-189.5 370,-189.5 \" stroke=\"black\"/>\n",
       "<text font-family=\"Times,serif\" font-size=\"14.00\" text-anchor=\"middle\" x=\"292.5\" y=\"-174.3\">(None, 2048)</text>\n",
       "</g>\n",
       "<!-- 140218280321992&#45;&gt;140218763912080 -->\n",
       "<g class=\"edge\" id=\"edge2\"><title>140218280321992-&gt;140218763912080</title>\n",
       "<path d=\"M191.5,-249.366C191.5,-241.152 191.5,-231.658 191.5,-222.725\" fill=\"none\" stroke=\"black\"/>\n",
       "<polygon fill=\"black\" points=\"195,-222.607 191.5,-212.607 188,-222.607 195,-222.607\" stroke=\"black\"/>\n",
       "</g>\n",
       "<!-- 140218280321656 -->\n",
       "<g class=\"node\" id=\"node4\"><title>140218280321656</title>\n",
       "<polygon fill=\"none\" points=\"24,-83.5 24,-129.5 359,-129.5 359,-83.5 24,-83.5\" stroke=\"black\"/>\n",
       "<text font-family=\"Times,serif\" font-size=\"14.00\" text-anchor=\"middle\" x=\"102.5\" y=\"-102.8\">dropout_1: Dropout</text>\n",
       "<polyline fill=\"none\" points=\"181,-83.5 181,-129.5 \" stroke=\"black\"/>\n",
       "<text font-family=\"Times,serif\" font-size=\"14.00\" text-anchor=\"middle\" x=\"215\" y=\"-114.3\">input:</text>\n",
       "<polyline fill=\"none\" points=\"181,-106.5 249,-106.5 \" stroke=\"black\"/>\n",
       "<text font-family=\"Times,serif\" font-size=\"14.00\" text-anchor=\"middle\" x=\"215\" y=\"-91.3\">output:</text>\n",
       "<polyline fill=\"none\" points=\"249,-83.5 249,-129.5 \" stroke=\"black\"/>\n",
       "<text font-family=\"Times,serif\" font-size=\"14.00\" text-anchor=\"middle\" x=\"304\" y=\"-114.3\">(None, 2048)</text>\n",
       "<polyline fill=\"none\" points=\"249,-106.5 359,-106.5 \" stroke=\"black\"/>\n",
       "<text font-family=\"Times,serif\" font-size=\"14.00\" text-anchor=\"middle\" x=\"304\" y=\"-91.3\">(None, 2048)</text>\n",
       "</g>\n",
       "<!-- 140218763912080&#45;&gt;140218280321656 -->\n",
       "<g class=\"edge\" id=\"edge3\"><title>140218763912080-&gt;140218280321656</title>\n",
       "<path d=\"M191.5,-166.366C191.5,-158.152 191.5,-148.658 191.5,-139.725\" fill=\"none\" stroke=\"black\"/>\n",
       "<polygon fill=\"black\" points=\"195,-139.607 191.5,-129.607 188,-139.607 195,-139.607\" stroke=\"black\"/>\n",
       "</g>\n",
       "<!-- 140218280322328 -->\n",
       "<g class=\"node\" id=\"node5\"><title>140218280322328</title>\n",
       "<polygon fill=\"none\" points=\"23,-0.5 23,-46.5 360,-46.5 360,-0.5 23,-0.5\" stroke=\"black\"/>\n",
       "<text font-family=\"Times,serif\" font-size=\"14.00\" text-anchor=\"middle\" x=\"102.5\" y=\"-19.8\">neck_design: Dense</text>\n",
       "<polyline fill=\"none\" points=\"182,-0.5 182,-46.5 \" stroke=\"black\"/>\n",
       "<text font-family=\"Times,serif\" font-size=\"14.00\" text-anchor=\"middle\" x=\"216\" y=\"-31.3\">input:</text>\n",
       "<polyline fill=\"none\" points=\"182,-23.5 250,-23.5 \" stroke=\"black\"/>\n",
       "<text font-family=\"Times,serif\" font-size=\"14.00\" text-anchor=\"middle\" x=\"216\" y=\"-8.3\">output:</text>\n",
       "<polyline fill=\"none\" points=\"250,-0.5 250,-46.5 \" stroke=\"black\"/>\n",
       "<text font-family=\"Times,serif\" font-size=\"14.00\" text-anchor=\"middle\" x=\"305\" y=\"-31.3\">(None, 2048)</text>\n",
       "<polyline fill=\"none\" points=\"250,-23.5 360,-23.5 \" stroke=\"black\"/>\n",
       "<text font-family=\"Times,serif\" font-size=\"14.00\" text-anchor=\"middle\" x=\"305\" y=\"-8.3\">(None, 5)</text>\n",
       "</g>\n",
       "<!-- 140218280321656&#45;&gt;140218280322328 -->\n",
       "<g class=\"edge\" id=\"edge4\"><title>140218280321656-&gt;140218280322328</title>\n",
       "<path d=\"M191.5,-83.3664C191.5,-75.1516 191.5,-65.6579 191.5,-56.7252\" fill=\"none\" stroke=\"black\"/>\n",
       "<polygon fill=\"black\" points=\"195,-56.6068 191.5,-46.6068 188,-56.6069 195,-56.6068\" stroke=\"black\"/>\n",
       "</g>\n",
       "</g>\n",
       "</svg>"
      ],
      "text/plain": [
       "<IPython.core.display.SVG object>"
      ]
     },
     "execution_count": 14,
     "metadata": {},
     "output_type": "execute_result"
    }
   ],
   "source": [
    "input_tensor = Input((width, width, 3))\n",
    "x = input_tensor\n",
    "x = Lambda(resnet50.preprocess_input)(x)\n",
    "x = base_model(x)\n",
    "x = Dropout(0.5)(x)\n",
    "x = [Dense(count, activation='softmax', name=name)(x) for name, count in label_count.items()]\n",
    "\n",
    "model = Model(input_tensor, x)\n",
    "model.compile(optimizer='adam', loss='categorical_crossentropy', metrics=['accuracy'])\n",
    "\n",
    "from IPython.display import SVG\n",
    "from keras.utils.vis_utils import model_to_dot, plot_model\n",
    "\n",
    "plot_model(model, show_shapes=True, to_file='model_neck_design.png')\n",
    "SVG(model_to_dot(model, show_shapes=True).create(prog='dot', format='svg'))"
   ]
  },
  {
   "cell_type": "code",
   "execution_count": 15,
   "metadata": {},
   "outputs": [],
   "source": [
    "model2 = multi_gpu_model(model, n_gpus)"
   ]
  },
  {
   "cell_type": "code",
   "execution_count": 16,
   "metadata": {},
   "outputs": [
    {
     "name": "stdout",
     "output_type": "stream",
     "text": [
      "Epoch 1/8\n",
      "143/143 [==============================] - 211s 1s/step - loss: 1.3038 - acc: 0.4735 - val_loss: 0.9287 - val_acc: 0.7254\n",
      "Epoch 2/8\n",
      "143/143 [==============================] - 168s 1s/step - loss: 0.8064 - acc: 0.6967 - val_loss: 0.8271 - val_acc: 0.7421\n",
      "Epoch 3/8\n",
      "143/143 [==============================] - 169s 1s/step - loss: 0.6284 - acc: 0.7705 - val_loss: 0.6120 - val_acc: 0.7833\n",
      "Epoch 4/8\n",
      "143/143 [==============================] - 168s 1s/step - loss: 0.5140 - acc: 0.8154 - val_loss: 0.7211 - val_acc: 0.7763\n",
      "Epoch 5/8\n",
      "143/143 [==============================] - 167s 1s/step - loss: 0.4066 - acc: 0.8537 - val_loss: 0.6071 - val_acc: 0.8018\n",
      "Epoch 6/8\n",
      "143/143 [==============================] - 168s 1s/step - loss: 0.3797 - acc: 0.8674 - val_loss: 0.6504 - val_acc: 0.7816\n",
      "Epoch 7/8\n",
      "143/143 [==============================] - 170s 1s/step - loss: 0.3365 - acc: 0.8787 - val_loss: 0.7655 - val_acc: 0.7895\n",
      "Epoch 8/8\n",
      "143/143 [==============================] - 170s 1s/step - loss: 0.3072 - acc: 0.8869 - val_loss: 0.7787 - val_acc: 0.7956\n"
     ]
    },
    {
     "data": {
      "text/plain": [
       "<keras.callbacks.History at 0x7f86e19500b8>"
      ]
     },
     "execution_count": 16,
     "metadata": {},
     "output_type": "execute_result"
    }
   ],
   "source": [
    "model2.compile(optimizer = Adam(0.0001),loss = 'categorical_crossentropy', metrics = ['accuracy'])\n",
    "model2.fit_generator(gen_train.generator, steps_per_epoch=gen_train.steps, \n",
    "                    epochs=8, validation_data=(X_valid, y_valid))"
   ]
  },
  {
   "cell_type": "code",
   "execution_count": 17,
   "metadata": {},
   "outputs": [
    {
     "name": "stdout",
     "output_type": "stream",
     "text": [
      "Epoch 1/3\n",
      "143/143 [==============================] - 205s 1s/step - loss: 0.2190 - acc: 0.9264 - val_loss: 0.5735 - val_acc: 0.8228\n",
      "Epoch 2/3\n",
      "143/143 [==============================] - 163s 1s/step - loss: 0.1391 - acc: 0.9530 - val_loss: 0.6198 - val_acc: 0.8263\n",
      "Epoch 3/3\n",
      "143/143 [==============================] - 167s 1s/step - loss: 0.1304 - acc: 0.9565 - val_loss: 0.6197 - val_acc: 0.8421\n"
     ]
    },
    {
     "data": {
      "text/plain": [
       "<keras.callbacks.History at 0x7f86765eb2e8>"
      ]
     },
     "execution_count": 17,
     "metadata": {},
     "output_type": "execute_result"
    }
   ],
   "source": [
    "model2.compile(optimizer = Adam(0.000025),loss = 'categorical_crossentropy', metrics = ['accuracy'])\n",
    "model2.fit_generator(gen_train.generator, steps_per_epoch=gen_train.steps, \n",
    "                    epochs=3, validation_data=(X_valid, y_valid))"
   ]
  },
  {
   "cell_type": "code",
   "execution_count": 18,
   "metadata": {},
   "outputs": [
    {
     "name": "stdout",
     "output_type": "stream",
     "text": [
      "Epoch 1/3\n",
      "143/143 [==============================] - 205s 1s/step - loss: 0.1155 - acc: 0.9589 - val_loss: 0.6054 - val_acc: 0.8421\n",
      "Epoch 2/3\n",
      "143/143 [==============================] - 168s 1s/step - loss: 0.1088 - acc: 0.9623 - val_loss: 0.5924 - val_acc: 0.8430\n",
      "Epoch 3/3\n",
      "143/143 [==============================] - 167s 1s/step - loss: 0.0964 - acc: 0.9696 - val_loss: 0.5987 - val_acc: 0.8395\n"
     ]
    },
    {
     "data": {
      "text/plain": [
       "<keras.callbacks.History at 0x7f86549bcda0>"
      ]
     },
     "execution_count": 18,
     "metadata": {},
     "output_type": "execute_result"
    }
   ],
   "source": [
    "model2.compile(optimizer = Adam(0.00000625),loss = 'categorical_crossentropy', metrics = ['accuracy'])\n",
    "model2.fit_generator(gen_train.generator, steps_per_epoch=gen_train.steps, \n",
    "                    epochs=3, validation_data=(X_valid, y_valid))"
   ]
  },
  {
   "cell_type": "code",
   "execution_count": 19,
   "metadata": {},
   "outputs": [
    {
     "name": "stdout",
     "output_type": "stream",
     "text": [
      "Epoch 1/1\n",
      "143/143 [==============================] - 208s 1s/step - loss: 0.1016 - acc: 0.9663 - val_loss: 0.6006 - val_acc: 0.8421\n"
     ]
    },
    {
     "data": {
      "text/plain": [
       "<keras.callbacks.History at 0x7f860d74f390>"
      ]
     },
     "execution_count": 19,
     "metadata": {},
     "output_type": "execute_result"
    }
   ],
   "source": [
    "model2.compile(optimizer = Adam(0.00000425),loss = 'categorical_crossentropy', metrics = ['accuracy'])\n",
    "model2.fit_generator(gen_train.generator, steps_per_epoch=gen_train.steps, \n",
    "                    epochs=1, validation_data=(X_valid, y_valid))"
   ]
  },
  {
   "cell_type": "code",
   "execution_count": 20,
   "metadata": {},
   "outputs": [
    {
     "name": "stdout",
     "output_type": "stream",
     "text": [
      "Epoch 1/1\n",
      "143/143 [==============================] - 213s 1s/step - loss: 0.0935 - acc: 0.9705 - val_loss: 0.6007 - val_acc: 0.8368\n"
     ]
    },
    {
     "data": {
      "text/plain": [
       "<keras.callbacks.History at 0x7f860dbed390>"
      ]
     },
     "execution_count": 20,
     "metadata": {},
     "output_type": "execute_result"
    }
   ],
   "source": [
    "model2.compile(optimizer = Adam(0.000001),loss = 'categorical_crossentropy', metrics = ['accuracy'])\n",
    "model2.fit_generator(gen_train.generator, steps_per_epoch=gen_train.steps, \n",
    "                    epochs=1, validation_data=(X_valid, y_valid))"
   ]
  },
  {
   "cell_type": "code",
   "execution_count": 21,
   "metadata": {},
   "outputs": [],
   "source": [
    "model_name = 'resnet_neck_design'\n",
    "\n",
    "model.save('model_%s.h5' % model_name)"
   ]
  }
 ],
 "metadata": {
  "kernelspec": {
   "display_name": "Python 3",
   "language": "python",
   "name": "python3"
  },
  "language_info": {
   "codemirror_mode": {
    "name": "ipython",
    "version": 3
   },
   "file_extension": ".py",
   "mimetype": "text/x-python",
   "name": "python",
   "nbconvert_exporter": "python",
   "pygments_lexer": "ipython3",
   "version": "3.6.7"
  }
 },
 "nbformat": 4,
 "nbformat_minor": 2
}
