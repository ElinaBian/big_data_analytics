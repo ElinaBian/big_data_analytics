{
 "cells": [
  {
   "cell_type": "code",
   "execution_count": 1,
   "metadata": {},
   "outputs": [],
   "source": [
    "import tensorflow as tf"
   ]
  },
  {
   "cell_type": "code",
   "execution_count": 2,
   "metadata": {},
   "outputs": [
    {
     "name": "stderr",
     "output_type": "stream",
     "text": [
      "Using TensorFlow backend.\n"
     ]
    }
   ],
   "source": [
    "import os\n",
    "os.environ['CUDA_VISIBLE_DEVICES'] = '0,1,2,3'\n",
    "n_gpus = len(os.environ['CUDA_VISIBLE_DEVICES'].split(','))\n",
    "\n",
    "import keras.backend as K\n",
    "#import tensorflow as tf\n",
    "\n",
    "# gpu_options = tf.GPUOptions(per_process_gpu_memory_fraction=0.7)\n",
    "# sess = tf.Session(config=tf.ConfigProto(gpu_options=gpu_options))"
   ]
  },
  {
   "cell_type": "code",
   "execution_count": 3,
   "metadata": {},
   "outputs": [],
   "source": [
    "import numpy as np\n",
    "import pandas as pd\n",
    "from keras.layers import *\n",
    "from keras.models import *\n",
    "from keras.optimizers import *\n",
    "from keras.applications import *\n",
    "from keras.regularizers import l2\n",
    "\n",
    "from keras.preprocessing.image import *\n",
    "\n",
    "import matplotlib.pyplot as plt\n",
    "import random\n",
    "import os\n",
    "import cv2\n",
    "from tqdm import tqdm\n",
    "from glob import glob\n",
    "import multiprocessing\n",
    "\n",
    "from sklearn.model_selection import train_test_split\n",
    "from collections import Counter\n",
    "from keras import backend as K\n",
    "from keras.utils import multi_gpu_model\n",
    "\n",
    "from IPython.display import display, Image\n",
    "\n",
    "%matplotlib inline\n",
    "%config InlineBackend.figure_format = 'retina'\n"
   ]
  },
  {
   "cell_type": "code",
   "execution_count": 4,
   "metadata": {},
   "outputs": [
    {
     "data": {
      "text/html": [
       "<div>\n",
       "<style scoped>\n",
       "    .dataframe tbody tr th:only-of-type {\n",
       "        vertical-align: middle;\n",
       "    }\n",
       "\n",
       "    .dataframe tbody tr th {\n",
       "        vertical-align: top;\n",
       "    }\n",
       "\n",
       "    .dataframe thead th {\n",
       "        text-align: right;\n",
       "    }\n",
       "</style>\n",
       "<table border=\"1\" class=\"dataframe\">\n",
       "  <thead>\n",
       "    <tr style=\"text-align: right;\">\n",
       "      <th></th>\n",
       "      <th>filename</th>\n",
       "      <th>label_name</th>\n",
       "      <th>label</th>\n",
       "    </tr>\n",
       "  </thead>\n",
       "  <tbody>\n",
       "    <tr>\n",
       "      <th>3</th>\n",
       "      <td>Images/skirt_length_labels/950638e668ca8414c47...</td>\n",
       "      <td>skirt_length</td>\n",
       "      <td>nnnynn</td>\n",
       "    </tr>\n",
       "    <tr>\n",
       "      <th>8</th>\n",
       "      <td>Images/skirt_length_labels/e27d2fe6a95132f3948...</td>\n",
       "      <td>skirt_length</td>\n",
       "      <td>nnnnny</td>\n",
       "    </tr>\n",
       "    <tr>\n",
       "      <th>14</th>\n",
       "      <td>Images/skirt_length_labels/ee53d9dacc7981314f4...</td>\n",
       "      <td>skirt_length</td>\n",
       "      <td>nnmynn</td>\n",
       "    </tr>\n",
       "    <tr>\n",
       "      <th>15</th>\n",
       "      <td>Images/skirt_length_labels/de76328babb30ea3ab9...</td>\n",
       "      <td>skirt_length</td>\n",
       "      <td>nnnynn</td>\n",
       "    </tr>\n",
       "    <tr>\n",
       "      <th>36</th>\n",
       "      <td>Images/skirt_length_labels/86323784d0344a262bd...</td>\n",
       "      <td>skirt_length</td>\n",
       "      <td>nnynnn</td>\n",
       "    </tr>\n",
       "  </tbody>\n",
       "</table>\n",
       "</div>"
      ],
      "text/plain": [
       "                                             filename    label_name   label\n",
       "3   Images/skirt_length_labels/950638e668ca8414c47...  skirt_length  nnnynn\n",
       "8   Images/skirt_length_labels/e27d2fe6a95132f3948...  skirt_length  nnnnny\n",
       "14  Images/skirt_length_labels/ee53d9dacc7981314f4...  skirt_length  nnmynn\n",
       "15  Images/skirt_length_labels/de76328babb30ea3ab9...  skirt_length  nnnynn\n",
       "36  Images/skirt_length_labels/86323784d0344a262bd...  skirt_length  nnynnn"
      ]
     },
     "metadata": {},
     "output_type": "display_data"
    },
    {
     "data": {
      "text/plain": [
       "Counter({'skirt_length': 9223})"
      ]
     },
     "execution_count": 4,
     "metadata": {},
     "output_type": "execute_result"
    }
   ],
   "source": [
    "df = pd.read_csv('data/Annotations/label.csv', header=None)\n",
    "df.columns = ['filename', 'label_name', 'label']\n",
    "df = df.sample(frac=1).reset_index(drop=True) # shuffle\n",
    "\n",
    "df.label_name = df.label_name.str.replace('_labels', '')\n",
    "df = df[df.label_name == 'skirt_length']\n",
    "\n",
    "display(df.head())\n",
    "c = Counter(df.label_name)\n",
    "c"
   ]
  },
  {
   "cell_type": "code",
   "execution_count": 5,
   "metadata": {},
   "outputs": [
    {
     "data": {
      "text/plain": [
       "{'skirt_length': 6}"
      ]
     },
     "metadata": {},
     "output_type": "display_data"
    }
   ],
   "source": [
    "label_count = dict([(x, len(df[df.label_name == x].label.values[0])) for x in c.keys()])\n",
    "label_names = list(label_count.keys())\n",
    "display(label_count)"
   ]
  },
  {
   "cell_type": "code",
   "execution_count": 6,
   "metadata": {},
   "outputs": [
    {
     "name": "stdout",
     "output_type": "stream",
     "text": [
      "9223\n"
     ]
    }
   ],
   "source": [
    "n = len(df)\n",
    "print(n)"
   ]
  },
  {
   "cell_type": "code",
   "execution_count": 7,
   "metadata": {},
   "outputs": [],
   "source": [
    "fnames = df['filename'].values\n",
    "width = 399\n",
    "\n",
    "y = [np.zeros((n, label_count[x])) for x in label_count.keys()]\n",
    "df = df.reset_index(drop=True)"
   ]
  },
  {
   "cell_type": "code",
   "execution_count": 8,
   "metadata": {},
   "outputs": [],
   "source": [
    "for i in range(n):\n",
    "    label_name = df.label_name[i]\n",
    "    label = df.label[i]\n",
    "    y[label_names.index(label_name)][i, label.find('y')] = 1\n",
    "    #y[label_names.index(label_name)][i, label.find('m')] = 0.5"
   ]
  },
  {
   "cell_type": "code",
   "execution_count": 9,
   "metadata": {},
   "outputs": [
    {
     "name": "stdout",
     "output_type": "stream",
     "text": [
      "['Images/skirt_length_labels/950638e668ca8414c47f78a5c187aba5.jpg'\n",
      " 'Images/skirt_length_labels/e27d2fe6a95132f39483deaadc1368d4.jpg'\n",
      " 'Images/skirt_length_labels/ee53d9dacc7981314f404d6647465a49.jpg'\n",
      " 'Images/skirt_length_labels/de76328babb30ea3ab9420b501d6e75e.jpg'\n",
      " 'Images/skirt_length_labels/86323784d0344a262bd6a25515c8e8f1.jpg'\n",
      " 'Images/skirt_length_labels/cd3e49af0176ddbab6c4586b4d5099ca.jpg'\n",
      " 'Images/skirt_length_labels/c2c7fbd84e6c7a6714b63d8f7b35a208.jpg'\n",
      " 'Images/skirt_length_labels/8ef9e97519fc254cc41a46315fbe38b5.jpg'\n",
      " 'Images/skirt_length_labels/37cba08383feee2910c948c337436ed4.jpg'\n",
      " 'Images/skirt_length_labels/ff2b2ac572ba12a23a84129804666406.jpg']\n",
      "9223\n",
      "9223\n",
      "1\n",
      "dict_keys(['skirt_length'])\n",
      "6\n"
     ]
    }
   ],
   "source": [
    "print(fnames[0:10])\n",
    "print(n)\n",
    "print(len(y[0]))\n",
    "print(len(y))\n",
    "print(label_count.keys())\n",
    "print(len(y[0][0]))"
   ]
  },
  {
   "cell_type": "code",
   "execution_count": 10,
   "metadata": {},
   "outputs": [
    {
     "name": "stderr",
     "output_type": "stream",
     "text": [
      "100%|██████████| 9223/9223 [00:16<00:00, 556.74it/s]\n"
     ]
    }
   ],
   "source": [
    "def f(index):\n",
    "    if os.path.isfile('data/'+fnames[index]):\n",
    "        return index, cv2.resize(cv2.imread('data/'+fnames[index]), (width, width))\n",
    "\n",
    "X = np.zeros((n, width, width, 3), dtype=np.uint8)\n",
    "with multiprocessing.Pool(12) as pool:\n",
    "    with tqdm(pool.imap_unordered(f, range(n)), total=n) as pbar:\n",
    "        for i, img in pbar:\n",
    "            X[i] = img[:,:,::-1]"
   ]
  },
  {
   "cell_type": "code",
   "execution_count": 11,
   "metadata": {},
   "outputs": [],
   "source": [
    "n_train = int(n*0.8)\n",
    "\n",
    "X_train = X[:n_train]\n",
    "X_valid = X[n_train:]\n",
    "y_train = [x[:n_train] for x in y]\n",
    "y_valid = [x[n_train:] for x in y]"
   ]
  },
  {
   "cell_type": "code",
   "execution_count": 12,
   "metadata": {},
   "outputs": [],
   "source": [
    "from dataset import *\n",
    "gen_train = Generator(X_train, y_train, batch_size=32, aug=True)"
   ]
  },
  {
   "cell_type": "code",
   "execution_count": 13,
   "metadata": {},
   "outputs": [],
   "source": [
    "base_model = ResNet50(weights='imagenet', input_shape=(width, width, 3), include_top=False, pooling='avg')"
   ]
  },
  {
   "cell_type": "code",
   "execution_count": 14,
   "metadata": {},
   "outputs": [
    {
     "data": {
      "image/svg+xml": [
       "<svg height=\"387pt\" viewBox=\"0.00 0.00 391.00 387.00\" width=\"391pt\" xmlns=\"http://www.w3.org/2000/svg\" xmlns:xlink=\"http://www.w3.org/1999/xlink\">\n",
       "<g class=\"graph\" id=\"graph0\" transform=\"scale(1 1) rotate(0) translate(4 383)\">\n",
       "<title>G</title>\n",
       "<polygon fill=\"white\" points=\"-4,4 -4,-383 387,-383 387,4 -4,4\" stroke=\"none\"/>\n",
       "<!-- 140304280963112 -->\n",
       "<g class=\"node\" id=\"node1\"><title>140304280963112</title>\n",
       "<polygon fill=\"none\" points=\"-2.84217e-14,-332.5 -2.84217e-14,-378.5 383,-378.5 383,-332.5 -2.84217e-14,-332.5\" stroke=\"black\"/>\n",
       "<text font-family=\"Times,serif\" font-size=\"14.00\" text-anchor=\"middle\" x=\"80\" y=\"-351.8\">input_2: InputLayer</text>\n",
       "<polyline fill=\"none\" points=\"160,-332.5 160,-378.5 \" stroke=\"black\"/>\n",
       "<text font-family=\"Times,serif\" font-size=\"14.00\" text-anchor=\"middle\" x=\"194\" y=\"-363.3\">input:</text>\n",
       "<polyline fill=\"none\" points=\"160,-355.5 228,-355.5 \" stroke=\"black\"/>\n",
       "<text font-family=\"Times,serif\" font-size=\"14.00\" text-anchor=\"middle\" x=\"194\" y=\"-340.3\">output:</text>\n",
       "<polyline fill=\"none\" points=\"228,-332.5 228,-378.5 \" stroke=\"black\"/>\n",
       "<text font-family=\"Times,serif\" font-size=\"14.00\" text-anchor=\"middle\" x=\"305.5\" y=\"-363.3\">(None, 399, 399, 3)</text>\n",
       "<polyline fill=\"none\" points=\"228,-355.5 383,-355.5 \" stroke=\"black\"/>\n",
       "<text font-family=\"Times,serif\" font-size=\"14.00\" text-anchor=\"middle\" x=\"305.5\" y=\"-340.3\">(None, 399, 399, 3)</text>\n",
       "</g>\n",
       "<!-- 140304280961992 -->\n",
       "<g class=\"node\" id=\"node2\"><title>140304280961992</title>\n",
       "<polygon fill=\"none\" points=\"4,-249.5 4,-295.5 379,-295.5 379,-249.5 4,-249.5\" stroke=\"black\"/>\n",
       "<text font-family=\"Times,serif\" font-size=\"14.00\" text-anchor=\"middle\" x=\"80\" y=\"-268.8\">lambda_1: Lambda</text>\n",
       "<polyline fill=\"none\" points=\"156,-249.5 156,-295.5 \" stroke=\"black\"/>\n",
       "<text font-family=\"Times,serif\" font-size=\"14.00\" text-anchor=\"middle\" x=\"190\" y=\"-280.3\">input:</text>\n",
       "<polyline fill=\"none\" points=\"156,-272.5 224,-272.5 \" stroke=\"black\"/>\n",
       "<text font-family=\"Times,serif\" font-size=\"14.00\" text-anchor=\"middle\" x=\"190\" y=\"-257.3\">output:</text>\n",
       "<polyline fill=\"none\" points=\"224,-249.5 224,-295.5 \" stroke=\"black\"/>\n",
       "<text font-family=\"Times,serif\" font-size=\"14.00\" text-anchor=\"middle\" x=\"301.5\" y=\"-280.3\">(None, 399, 399, 3)</text>\n",
       "<polyline fill=\"none\" points=\"224,-272.5 379,-272.5 \" stroke=\"black\"/>\n",
       "<text font-family=\"Times,serif\" font-size=\"14.00\" text-anchor=\"middle\" x=\"301.5\" y=\"-257.3\">(None, 399, 399, 3)</text>\n",
       "</g>\n",
       "<!-- 140304280963112&#45;&gt;140304280961992 -->\n",
       "<g class=\"edge\" id=\"edge1\"><title>140304280963112-&gt;140304280961992</title>\n",
       "<path d=\"M191.5,-332.366C191.5,-324.152 191.5,-314.658 191.5,-305.725\" fill=\"none\" stroke=\"black\"/>\n",
       "<polygon fill=\"black\" points=\"195,-305.607 191.5,-295.607 188,-305.607 195,-305.607\" stroke=\"black\"/>\n",
       "</g>\n",
       "<!-- 140306140754832 -->\n",
       "<g class=\"node\" id=\"node3\"><title>140306140754832</title>\n",
       "<polygon fill=\"none\" points=\"13,-166.5 13,-212.5 370,-212.5 370,-166.5 13,-166.5\" stroke=\"black\"/>\n",
       "<text font-family=\"Times,serif\" font-size=\"14.00\" text-anchor=\"middle\" x=\"80\" y=\"-185.8\">resnet50: Model</text>\n",
       "<polyline fill=\"none\" points=\"147,-166.5 147,-212.5 \" stroke=\"black\"/>\n",
       "<text font-family=\"Times,serif\" font-size=\"14.00\" text-anchor=\"middle\" x=\"181\" y=\"-197.3\">input:</text>\n",
       "<polyline fill=\"none\" points=\"147,-189.5 215,-189.5 \" stroke=\"black\"/>\n",
       "<text font-family=\"Times,serif\" font-size=\"14.00\" text-anchor=\"middle\" x=\"181\" y=\"-174.3\">output:</text>\n",
       "<polyline fill=\"none\" points=\"215,-166.5 215,-212.5 \" stroke=\"black\"/>\n",
       "<text font-family=\"Times,serif\" font-size=\"14.00\" text-anchor=\"middle\" x=\"292.5\" y=\"-197.3\">(None, 399, 399, 3)</text>\n",
       "<polyline fill=\"none\" points=\"215,-189.5 370,-189.5 \" stroke=\"black\"/>\n",
       "<text font-family=\"Times,serif\" font-size=\"14.00\" text-anchor=\"middle\" x=\"292.5\" y=\"-174.3\">(None, 2048)</text>\n",
       "</g>\n",
       "<!-- 140304280961992&#45;&gt;140306140754832 -->\n",
       "<g class=\"edge\" id=\"edge2\"><title>140304280961992-&gt;140306140754832</title>\n",
       "<path d=\"M191.5,-249.366C191.5,-241.152 191.5,-231.658 191.5,-222.725\" fill=\"none\" stroke=\"black\"/>\n",
       "<polygon fill=\"black\" points=\"195,-222.607 191.5,-212.607 188,-222.607 195,-222.607\" stroke=\"black\"/>\n",
       "</g>\n",
       "<!-- 140304280961656 -->\n",
       "<g class=\"node\" id=\"node4\"><title>140304280961656</title>\n",
       "<polygon fill=\"none\" points=\"24,-83.5 24,-129.5 359,-129.5 359,-83.5 24,-83.5\" stroke=\"black\"/>\n",
       "<text font-family=\"Times,serif\" font-size=\"14.00\" text-anchor=\"middle\" x=\"102.5\" y=\"-102.8\">dropout_1: Dropout</text>\n",
       "<polyline fill=\"none\" points=\"181,-83.5 181,-129.5 \" stroke=\"black\"/>\n",
       "<text font-family=\"Times,serif\" font-size=\"14.00\" text-anchor=\"middle\" x=\"215\" y=\"-114.3\">input:</text>\n",
       "<polyline fill=\"none\" points=\"181,-106.5 249,-106.5 \" stroke=\"black\"/>\n",
       "<text font-family=\"Times,serif\" font-size=\"14.00\" text-anchor=\"middle\" x=\"215\" y=\"-91.3\">output:</text>\n",
       "<polyline fill=\"none\" points=\"249,-83.5 249,-129.5 \" stroke=\"black\"/>\n",
       "<text font-family=\"Times,serif\" font-size=\"14.00\" text-anchor=\"middle\" x=\"304\" y=\"-114.3\">(None, 2048)</text>\n",
       "<polyline fill=\"none\" points=\"249,-106.5 359,-106.5 \" stroke=\"black\"/>\n",
       "<text font-family=\"Times,serif\" font-size=\"14.00\" text-anchor=\"middle\" x=\"304\" y=\"-91.3\">(None, 2048)</text>\n",
       "</g>\n",
       "<!-- 140306140754832&#45;&gt;140304280961656 -->\n",
       "<g class=\"edge\" id=\"edge3\"><title>140306140754832-&gt;140304280961656</title>\n",
       "<path d=\"M191.5,-166.366C191.5,-158.152 191.5,-148.658 191.5,-139.725\" fill=\"none\" stroke=\"black\"/>\n",
       "<polygon fill=\"black\" points=\"195,-139.607 191.5,-129.607 188,-139.607 195,-139.607\" stroke=\"black\"/>\n",
       "</g>\n",
       "<!-- 140304280953128 -->\n",
       "<g class=\"node\" id=\"node5\"><title>140304280953128</title>\n",
       "<polygon fill=\"none\" points=\"24,-0.5 24,-46.5 359,-46.5 359,-0.5 24,-0.5\" stroke=\"black\"/>\n",
       "<text font-family=\"Times,serif\" font-size=\"14.00\" text-anchor=\"middle\" x=\"102.5\" y=\"-19.8\">skirt_length: Dense</text>\n",
       "<polyline fill=\"none\" points=\"181,-0.5 181,-46.5 \" stroke=\"black\"/>\n",
       "<text font-family=\"Times,serif\" font-size=\"14.00\" text-anchor=\"middle\" x=\"215\" y=\"-31.3\">input:</text>\n",
       "<polyline fill=\"none\" points=\"181,-23.5 249,-23.5 \" stroke=\"black\"/>\n",
       "<text font-family=\"Times,serif\" font-size=\"14.00\" text-anchor=\"middle\" x=\"215\" y=\"-8.3\">output:</text>\n",
       "<polyline fill=\"none\" points=\"249,-0.5 249,-46.5 \" stroke=\"black\"/>\n",
       "<text font-family=\"Times,serif\" font-size=\"14.00\" text-anchor=\"middle\" x=\"304\" y=\"-31.3\">(None, 2048)</text>\n",
       "<polyline fill=\"none\" points=\"249,-23.5 359,-23.5 \" stroke=\"black\"/>\n",
       "<text font-family=\"Times,serif\" font-size=\"14.00\" text-anchor=\"middle\" x=\"304\" y=\"-8.3\">(None, 6)</text>\n",
       "</g>\n",
       "<!-- 140304280961656&#45;&gt;140304280953128 -->\n",
       "<g class=\"edge\" id=\"edge4\"><title>140304280961656-&gt;140304280953128</title>\n",
       "<path d=\"M191.5,-83.3664C191.5,-75.1516 191.5,-65.6579 191.5,-56.7252\" fill=\"none\" stroke=\"black\"/>\n",
       "<polygon fill=\"black\" points=\"195,-56.6068 191.5,-46.6068 188,-56.6069 195,-56.6068\" stroke=\"black\"/>\n",
       "</g>\n",
       "</g>\n",
       "</svg>"
      ],
      "text/plain": [
       "<IPython.core.display.SVG object>"
      ]
     },
     "execution_count": 14,
     "metadata": {},
     "output_type": "execute_result"
    }
   ],
   "source": [
    "input_tensor = Input((width, width, 3))\n",
    "x = input_tensor\n",
    "x = Lambda(resnet50.preprocess_input)(x)\n",
    "x = base_model(x)\n",
    "x = Dropout(0.5)(x)\n",
    "x = [Dense(count, activation='softmax', name=name)(x) for name, count in label_count.items()]\n",
    "\n",
    "model = Model(input_tensor, x)\n",
    "model.compile(optimizer='adam', loss='categorical_crossentropy', metrics=['accuracy'])\n",
    "\n",
    "from IPython.display import SVG\n",
    "from keras.utils.vis_utils import model_to_dot, plot_model\n",
    "\n",
    "plot_model(model, show_shapes=True, to_file='model_skirt_length.png')\n",
    "SVG(model_to_dot(model, show_shapes=True).create(prog='dot', format='svg'))"
   ]
  },
  {
   "cell_type": "code",
   "execution_count": 15,
   "metadata": {},
   "outputs": [],
   "source": [
    "model2 = multi_gpu_model(model, n_gpus)"
   ]
  },
  {
   "cell_type": "code",
   "execution_count": 16,
   "metadata": {},
   "outputs": [
    {
     "name": "stdout",
     "output_type": "stream",
     "text": [
      "Epoch 1/8\n",
      "231/231 [==============================] - 321s 1s/step - loss: 1.0297 - acc: 0.6212 - val_loss: 0.6410 - val_acc: 0.7875\n",
      "Epoch 2/8\n",
      "231/231 [==============================] - 282s 1s/step - loss: 0.5766 - acc: 0.7955 - val_loss: 0.4997 - val_acc: 0.8287\n",
      "Epoch 3/8\n",
      "231/231 [==============================] - 275s 1s/step - loss: 0.4483 - acc: 0.8426 - val_loss: 0.4761 - val_acc: 0.8385\n",
      "Epoch 4/8\n",
      "231/231 [==============================] - 277s 1s/step - loss: 0.3699 - acc: 0.8713 - val_loss: 0.5203 - val_acc: 0.8293\n",
      "Epoch 5/8\n",
      "231/231 [==============================] - 284s 1s/step - loss: 0.3060 - acc: 0.8899 - val_loss: 0.4756 - val_acc: 0.8363\n",
      "Epoch 6/8\n",
      "231/231 [==============================] - 278s 1s/step - loss: 0.2608 - acc: 0.9084 - val_loss: 0.7165 - val_acc: 0.8092\n",
      "Epoch 7/8\n",
      "231/231 [==============================] - 281s 1s/step - loss: 0.2400 - acc: 0.9156 - val_loss: 0.5173 - val_acc: 0.8412\n",
      "Epoch 8/8\n",
      "231/231 [==============================] - 282s 1s/step - loss: 0.2097 - acc: 0.9276 - val_loss: 0.5450 - val_acc: 0.8385\n"
     ]
    },
    {
     "data": {
      "text/plain": [
       "<keras.callbacks.History at 0x7f9aa9aec0b8>"
      ]
     },
     "execution_count": 16,
     "metadata": {},
     "output_type": "execute_result"
    }
   ],
   "source": [
    "model2.compile(optimizer = Adam(0.0001),loss = 'categorical_crossentropy', metrics = ['accuracy'])\n",
    "model2.fit_generator(gen_train.generator, steps_per_epoch=gen_train.steps, \n",
    "                    epochs=8, validation_data=(X_valid, y_valid))"
   ]
  },
  {
   "cell_type": "code",
   "execution_count": 17,
   "metadata": {},
   "outputs": [
    {
     "name": "stdout",
     "output_type": "stream",
     "text": [
      "Epoch 1/3\n",
      "231/231 [==============================] - 316s 1s/step - loss: 0.1218 - acc: 0.9600 - val_loss: 0.5337 - val_acc: 0.8515\n",
      "Epoch 2/3\n",
      "231/231 [==============================] - 275s 1s/step - loss: 0.1098 - acc: 0.9631 - val_loss: 0.5171 - val_acc: 0.8488\n",
      "Epoch 3/3\n",
      "231/231 [==============================] - 271s 1s/step - loss: 0.0769 - acc: 0.9760 - val_loss: 0.5213 - val_acc: 0.8526\n"
     ]
    },
    {
     "data": {
      "text/plain": [
       "<keras.callbacks.History at 0x7f9ac8b55550>"
      ]
     },
     "execution_count": 17,
     "metadata": {},
     "output_type": "execute_result"
    }
   ],
   "source": [
    "model2.compile(optimizer = Adam(0.000025),loss = 'categorical_crossentropy', metrics = ['accuracy'])\n",
    "model2.fit_generator(gen_train.generator, steps_per_epoch=gen_train.steps, \n",
    "                    epochs=3, validation_data=(X_valid, y_valid))"
   ]
  },
  {
   "cell_type": "code",
   "execution_count": 18,
   "metadata": {},
   "outputs": [
    {
     "name": "stdout",
     "output_type": "stream",
     "text": [
      "Epoch 1/3\n",
      "231/231 [==============================] - 304s 1s/step - loss: 0.0624 - acc: 0.9797 - val_loss: 0.4940 - val_acc: 0.8678\n",
      "Epoch 2/3\n",
      "231/231 [==============================] - 268s 1s/step - loss: 0.0614 - acc: 0.9807 - val_loss: 0.4932 - val_acc: 0.8678\n",
      "Epoch 3/3\n",
      "231/231 [==============================] - 270s 1s/step - loss: 0.0527 - acc: 0.9844 - val_loss: 0.5171 - val_acc: 0.8672\n"
     ]
    },
    {
     "data": {
      "text/plain": [
       "<keras.callbacks.History at 0x7f9a743e9470>"
      ]
     },
     "execution_count": 18,
     "metadata": {},
     "output_type": "execute_result"
    }
   ],
   "source": [
    "model2.compile(optimizer = Adam(0.00000625),loss = 'categorical_crossentropy', metrics = ['accuracy'])\n",
    "model2.fit_generator(gen_train.generator, steps_per_epoch=gen_train.steps, \n",
    "                    epochs=3, validation_data=(X_valid, y_valid))"
   ]
  },
  {
   "cell_type": "code",
   "execution_count": 19,
   "metadata": {},
   "outputs": [
    {
     "name": "stdout",
     "output_type": "stream",
     "text": [
      "Epoch 1/1\n",
      "231/231 [==============================] - 314s 1s/step - loss: 0.0462 - acc: 0.9862 - val_loss: 0.5060 - val_acc: 0.8650\n"
     ]
    },
    {
     "data": {
      "text/plain": [
       "<keras.callbacks.History at 0x7f9a92ff8ba8>"
      ]
     },
     "execution_count": 19,
     "metadata": {},
     "output_type": "execute_result"
    }
   ],
   "source": [
    "model2.compile(optimizer = Adam(0.00000425),loss = 'categorical_crossentropy', metrics = ['accuracy'])\n",
    "model2.fit_generator(gen_train.generator, steps_per_epoch=gen_train.steps, \n",
    "                    epochs=1, validation_data=(X_valid, y_valid))"
   ]
  },
  {
   "cell_type": "code",
   "execution_count": 20,
   "metadata": {},
   "outputs": [
    {
     "name": "stdout",
     "output_type": "stream",
     "text": [
      "Epoch 1/1\n",
      "231/231 [==============================] - 318s 1s/step - loss: 0.0503 - acc: 0.9839 - val_loss: 0.5048 - val_acc: 0.8656\n"
     ]
    },
    {
     "data": {
      "text/plain": [
       "<keras.callbacks.History at 0x7f99ad9c8cf8>"
      ]
     },
     "execution_count": 20,
     "metadata": {},
     "output_type": "execute_result"
    }
   ],
   "source": [
    "model2.compile(optimizer = Adam(0.000001),loss = 'categorical_crossentropy', metrics = ['accuracy'])\n",
    "model2.fit_generator(gen_train.generator, steps_per_epoch=gen_train.steps, \n",
    "                    epochs=1, validation_data=(X_valid, y_valid))"
   ]
  },
  {
   "cell_type": "code",
   "execution_count": 21,
   "metadata": {},
   "outputs": [],
   "source": [
    "model_name = 'resnet_skirt_length'\n",
    "\n",
    "model.save('model_%s.h5' % model_name)"
   ]
  }
 ],
 "metadata": {
  "kernelspec": {
   "display_name": "Python 3",
   "language": "python",
   "name": "python3"
  },
  "language_info": {
   "codemirror_mode": {
    "name": "ipython",
    "version": 3
   },
   "file_extension": ".py",
   "mimetype": "text/x-python",
   "name": "python",
   "nbconvert_exporter": "python",
   "pygments_lexer": "ipython3",
   "version": "3.6.7"
  }
 },
 "nbformat": 4,
 "nbformat_minor": 2
}
